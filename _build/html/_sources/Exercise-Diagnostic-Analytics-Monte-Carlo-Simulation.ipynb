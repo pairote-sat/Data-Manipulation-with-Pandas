{
 "cells": [
  {
   "cell_type": "markdown",
   "id": "f444c710-f3a5-430f-9e94-6dd48245415d",
   "metadata": {},
   "source": [
    "# Exercise: Diagnostic Analytics, Monte Carlo Simulation and sampling methods"
   ]
  },
  {
   "cell_type": "markdown",
   "id": "b257d907-b148-4145-9dbf-75665c0da749",
   "metadata": {
    "jp-MarkdownHeadingCollapsed": true
   },
   "source": [
    "```{admonition} Question 1:\n",
    "\n",
    "1. **Generate Samples**\n",
    "\n",
    "How can you generate 100 samples from a binomial distribution with $n = 3$ and $p = 0.89$ using the Monte Carlo method?\n",
    "\n",
    "2. **Estimate Mean and Variance**\n",
    "\n",
    "How do you calculate the mean and variance of the generated samples?\n",
    "\n",
    "3. **Visualization**\n",
    "\n",
    "How can you visualize the comparison between the sample data and the theoretical PMF of the binomial distribution?\n",
    "\n",
    "4. **Estimate Probability**\n",
    "\n",
    "How can you use Monte Carlo results to estimate the probability that $X = 3$?\n",
    "```"
   ]
  },
  {
   "cell_type": "markdown",
   "id": "18d38d60-cf2b-44ea-8267-349fc4fe7941",
   "metadata": {},
   "source": [
    "```{admonition} Question 2: Monte Carlo Simulation Exercise: Poisson Distribution\n",
    "\n",
    "**Background:**\n",
    "\n",
    "Customers arrive at a photocopying machine at an average rate of 2 every five minutes. Assume that these arrivals are independent, with a constant arrival rate, and that this problem follows a Poisson model, with \\( X \\) denoting the number of arriving customers in a 5-minute period and mean \\( \\lambda = 2 \\).\n",
    "\n",
    "**Objective:**\n",
    "\n",
    "Use Monte Carlo simulation to estimate the probability that more than two customers arrive in a 5-minute period.\n",
    "\n",
    "1. **Generate Samples**\n",
    "\n",
    "How can you generate 1000 samples from a Poisson distribution with \\( \\lambda = 2 \\) using the Monte Carlo method? Provide the Python code used to generate these samples.\n",
    "\n",
    "2. **Estimate Mean and Variance**\n",
    "\n",
    "Using the samples generated in Question 1, calculate the mean and variance of the number of customers arriving in a 5-minute period. Provide the Python code and the resulting values.\n",
    "\n",
    "3. **Visualization**\n",
    "\n",
    "How can you visualize the comparison between the sample data and the theoretical probability mass function (PMF) of the Poisson distribution? Provide the Python code used for the visualization and describe the resulting plot.\n",
    "\n",
    "4. **Estimate Probability**\n",
    "\n",
    "Using the Monte Carlo results, estimate the probability that more than two customers arrive in a 5-minute period. Provide the Python code and the estimated probability.\n",
    "\n",
    "```"
   ]
  }
 ],
 "metadata": {
  "kernelspec": {
   "display_name": "Python 3 (ipykernel)",
   "language": "python",
   "name": "python3"
  },
  "language_info": {
   "codemirror_mode": {
    "name": "ipython",
    "version": 3
   },
   "file_extension": ".py",
   "mimetype": "text/x-python",
   "name": "python",
   "nbconvert_exporter": "python",
   "pygments_lexer": "ipython3",
   "version": "3.10.9"
  }
 },
 "nbformat": 4,
 "nbformat_minor": 5
}
