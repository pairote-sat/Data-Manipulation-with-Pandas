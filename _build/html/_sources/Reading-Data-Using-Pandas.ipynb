{
 "cells": [
  {
   "cell_type": "markdown",
   "id": "93855f2a-3706-480a-b251-dc67ae2cfec7",
   "metadata": {},
   "source": [
    "# Reading Data using Pandas\n",
    "\n",
    "Pandas is a powerful Python library used for data manipulation and analysis. One of its core functionalities is reading data from various file formats into DataFrame objects."
   ]
  },
  {
   "cell_type": "markdown",
   "id": "12b26d7e-3418-4f2f-9a75-92fa02068de3",
   "metadata": {},
   "source": [
    "```{admonition} **Syntax:**\n",
    "\n",
    "import pandas as pd\n",
    "\n",
    "pd.read_csv(filepath_or_buffer, sep=',', delimiter=None, header='infer', names=None, ...)\n",
    "```"
   ]
  },
  {
   "cell_type": "markdown",
   "id": "30110e78-6959-490c-ba85-f83671395abc",
   "metadata": {},
   "source": [
    "```{admonition} **Description:**\n",
    ":class: hint\n",
    "`pd.read_csv()` reads a comma-separated values (csv) file into a DataFrame.\n",
    "\n",
    "Key arguments include `filepath_or_buffer` (path to the file), `sep` (delimiter), `header` (row number for header), `names` (list of column names), etc.\n",
    "```"
   ]
  },
  {
   "cell_type": "markdown",
   "id": "0862d53f-dd21-45c7-ae73-b0059af354c4",
   "metadata": {},
   "source": [
    "## Example: Reading the Gapminder Dataset"
   ]
  },
  {
   "cell_type": "markdown",
   "id": "b6246781-7b38-4ad4-a2a3-85e2b4b68947",
   "metadata": {},
   "source": [
    "Let's use `pd.read_csv()` to read the Gapminder dataset into a DataFrame.\n",
    "\n",
    "### Gapminder Dataset\n",
    "\n",
    "The Gapminder dataset contains historical data about various countries around the world. It includes key indicators such as life expectancy, population, and GDP per capita. This dataset is often used to study and visualize global development trends over time.\n",
    "\n",
    "#### Columns:\n",
    "- `country`: The name of the country.\n",
    "- `continent`: The continent to which the country belongs.\n",
    "- `year`: The year of the observation.\n",
    "- `lifeExp`: Life expectancy at birth in years.\n",
    "- `pop`: Total population.\n",
    "- `gdpPercap`: GDP per capita (inflation-adjusted).\n",
    "\n",
    "The data spans from 1952 to 2007 and provides valuable insights into the socio-economic progress of countries globally."
   ]
  },
  {
   "cell_type": "code",
   "execution_count": 1,
   "id": "ccf33643-4eb8-4501-8dd0-111864d28c93",
   "metadata": {},
   "outputs": [
    {
     "name": "stdout",
     "output_type": "stream",
     "text": [
      "       country continent  year  lifeExp       pop   gdpPercap\n",
      "0  Afghanistan      Asia  1952   28.801   8425333  779.445314\n",
      "1  Afghanistan      Asia  1957   30.332   9240934  820.853030\n",
      "2  Afghanistan      Asia  1962   31.997  10267083  853.100710\n",
      "3  Afghanistan      Asia  1967   34.020  11537966  836.197138\n",
      "4  Afghanistan      Asia  1972   36.088  13079460  739.981106\n"
     ]
    }
   ],
   "source": [
    "import pandas as pd\n",
    "\n",
    "# URL to the raw CSV file on GitHub\n",
    "url = 'https://raw.githubusercontent.com/kirenz/datasets/master/gapminder.csv'\n",
    "\n",
    "# Read the CSV file into a DataFrame\n",
    "df = pd.read_csv(url)\n",
    "\n",
    "# Display the first few rows of the DataFrame\n",
    "print(df.head())"
   ]
  },
  {
   "cell_type": "markdown",
   "id": "efee41e7-3576-44b5-aba5-009abf6c0b10",
   "metadata": {},
   "source": [
    "## Example: Using `pd.read_csv()` with Different Arguments"
   ]
  },
  {
   "cell_type": "code",
   "execution_count": 5,
   "id": "9b49be68-6678-4dcd-8572-c334ea581724",
   "metadata": {},
   "outputs": [
    {
     "name": "stdout",
     "output_type": "stream",
     "text": [
      "DataFrame using sep argument:\n",
      "       country continent  year  lifeExp       pop   gdpPercap\n",
      "0  Afghanistan      Asia  1952   28.801   8425333  779.445314\n",
      "1  Afghanistan      Asia  1957   30.332   9240934  820.853030\n",
      "2  Afghanistan      Asia  1962   31.997  10267083  853.100710\n",
      "3  Afghanistan      Asia  1967   34.020  11537966  836.197138\n",
      "4  Afghanistan      Asia  1972   36.088  13079460  739.981106\n",
      "\n",
      "DataFrame using delimiter argument:\n",
      "       country continent  year  lifeExp       pop   gdpPercap\n",
      "0  Afghanistan      Asia  1952   28.801   8425333  779.445314\n",
      "1  Afghanistan      Asia  1957   30.332   9240934  820.853030\n",
      "2  Afghanistan      Asia  1962   31.997  10267083  853.100710\n",
      "3  Afghanistan      Asia  1967   34.020  11537966  836.197138\n",
      "4  Afghanistan      Asia  1972   36.088  13079460  739.981106\n",
      "\n",
      "DataFrame using header argument:\n",
      "       country continent  year  lifeExp       pop   gdpPercap\n",
      "0  Afghanistan      Asia  1952   28.801   8425333  779.445314\n",
      "1  Afghanistan      Asia  1957   30.332   9240934  820.853030\n",
      "2  Afghanistan      Asia  1962   31.997  10267083  853.100710\n",
      "3  Afghanistan      Asia  1967   34.020  11537966  836.197138\n",
      "4  Afghanistan      Asia  1972   36.088  13079460  739.981106\n",
      "\n",
      "DataFrame using names argument:\n",
      "       country  continent  year  lifeExp       pop    gdpPercap\n",
      "0      country  continent  year  lifeExp       pop    gdpPercap\n",
      "1  Afghanistan       Asia  1952   28.801   8425333  779.4453145\n",
      "2  Afghanistan       Asia  1957   30.332   9240934  820.8530296\n",
      "3  Afghanistan       Asia  1962   31.997  10267083    853.10071\n",
      "4  Afghanistan       Asia  1967    34.02  11537966  836.1971382\n"
     ]
    }
   ],
   "source": [
    "import pandas as pd\n",
    "\n",
    "# URL to the raw CSV file on GitHub\n",
    "url = 'https://raw.githubusercontent.com/kirenz/datasets/master/gapminder.csv'\n",
    "\n",
    "# Using sep (delimiter) to specify the delimiter explicitly\n",
    "df_sep = pd.read_csv(url, sep=',')\n",
    "\n",
    "# Using delimiter to specify the delimiter explicitly\n",
    "df_delimiter = pd.read_csv(url, delimiter=',')\n",
    "\n",
    "# Using header to specify the row number(s) to use as the header\n",
    "df_header = pd.read_csv(url, header=0)  # assuming the first row is the header\n",
    "\n",
    "# Using names to specify column names explicitly\n",
    "column_names = ['country', 'continent', 'year', 'lifeExp', 'pop', 'gdpPercap']\n",
    "df_names = pd.read_csv(url, names=column_names)\n",
    "\n",
    "# Displaying the first few rows of each DataFrame for verification\n",
    "print(\"DataFrame using sep argument:\")\n",
    "print(df_sep.head())\n",
    "\n",
    "print(\"\\nDataFrame using delimiter argument:\")\n",
    "print(df_delimiter.head())\n",
    "\n",
    "print(\"\\nDataFrame using header argument:\")\n",
    "print(df_header.head())\n",
    "\n",
    "print(\"\\nDataFrame using names argument:\")\n",
    "print(df_names.head())"
   ]
  }
 ],
 "metadata": {
  "kernelspec": {
   "display_name": "Python 3 (ipykernel)",
   "language": "python",
   "name": "python3"
  },
  "language_info": {
   "codemirror_mode": {
    "name": "ipython",
    "version": 3
   },
   "file_extension": ".py",
   "mimetype": "text/x-python",
   "name": "python",
   "nbconvert_exporter": "python",
   "pygments_lexer": "ipython3",
   "version": "3.10.9"
  }
 },
 "nbformat": 4,
 "nbformat_minor": 5
}
