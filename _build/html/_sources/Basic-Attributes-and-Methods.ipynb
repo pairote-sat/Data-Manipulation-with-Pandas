{
 "cells": [
  {
   "cell_type": "markdown",
   "id": "4e0735bd-1626-49ae-967f-a7116bf83759",
   "metadata": {},
   "source": [
    "# Basic Attributes and Methods"
   ]
  },
  {
   "cell_type": "markdown",
   "id": "daee0c38-33ff-469d-bfdf-c29397597041",
   "metadata": {},
   "source": [
    "Pandas provides several attributes and methods that allow users to get a quick overview of the DataFrame, such as its shape, data types, and summary statistics.\n",
    "\n",
    "**Functions to be used**:\n",
    "  1. `df.info()`: method used for getting information about number of rows, columns, count of not null, memory usage.\n",
    "  2. `df.shape`: attribute that returns a tuple representing the dimensionality of the DataFrame (rows, columns).\n",
    "  3. `df.columns`: attribute that returns the column labels of the DataFrame.\n",
    "  4. `df.head()`: method used to return the first n rows of the DataFrame.\n",
    "  5. `df.describe()`: method used to generate descriptive statistics that summarize the central tendency, dispersion, and shape of a dataset’s distribution, excluding NaN values.\n",
    "\n",
    "## Code Example:"
   ]
  },
  {
   "cell_type": "code",
   "execution_count": 2,
   "id": "74f54a0a-4b40-4614-9f5e-934c2c05b86f",
   "metadata": {},
   "outputs": [
    {
     "name": "stdout",
     "output_type": "stream",
     "text": [
      "<class 'pandas.core.frame.DataFrame'>\n",
      "RangeIndex: 1704 entries, 0 to 1703\n",
      "Data columns (total 6 columns):\n",
      " #   Column     Non-Null Count  Dtype  \n",
      "---  ------     --------------  -----  \n",
      " 0   country    1704 non-null   object \n",
      " 1   continent  1704 non-null   object \n",
      " 2   year       1704 non-null   int64  \n",
      " 3   lifeExp    1704 non-null   float64\n",
      " 4   pop        1704 non-null   int64  \n",
      " 5   gdpPercap  1704 non-null   float64\n",
      "dtypes: float64(2), int64(2), object(2)\n",
      "memory usage: 80.0+ KB\n"
     ]
    }
   ],
   "source": [
    "import pandas as pd\n",
    "\n",
    "# URL to the raw CSV file on GitHub\n",
    "url = 'https://raw.githubusercontent.com/kirenz/datasets/master/gapminder.csv'\n",
    "\n",
    "# Read the CSV file into a DataFrame\n",
    "df = pd.read_csv(url)\n",
    "\n",
    "# 1. Get DataFrame information\n",
    "df.info()\n"
   ]
  },
  {
   "cell_type": "code",
   "execution_count": 3,
   "id": "fbfaec35-be7c-4428-a248-1dbd63ab30e1",
   "metadata": {},
   "outputs": [
    {
     "name": "stdout",
     "output_type": "stream",
     "text": [
      "Shape of DataFrame: (1704, 6)\n"
     ]
    }
   ],
   "source": [
    "# 2. Get the shape of the DataFrame\n",
    "print(\"Shape of DataFrame:\", df.shape)"
   ]
  },
  {
   "cell_type": "code",
   "execution_count": 4,
   "id": "849cdc65-4f01-4e97-b36b-4e729c0ea7d8",
   "metadata": {},
   "outputs": [
    {
     "name": "stdout",
     "output_type": "stream",
     "text": [
      "Columns in DataFrame: Index(['country', 'continent', 'year', 'lifeExp', 'pop', 'gdpPercap'], dtype='object')\n"
     ]
    }
   ],
   "source": [
    "# 3. Get the column labels of the DataFrame\n",
    "print(\"Columns in DataFrame:\", df.columns)"
   ]
  },
  {
   "cell_type": "code",
   "execution_count": 5,
   "id": "f8e746cf-ca2d-4cdd-b058-9800278bd3a4",
   "metadata": {},
   "outputs": [
    {
     "name": "stdout",
     "output_type": "stream",
     "text": [
      "First 5 rows of DataFrame:\n",
      "       country continent  year  lifeExp       pop   gdpPercap\n",
      "0  Afghanistan      Asia  1952   28.801   8425333  779.445314\n",
      "1  Afghanistan      Asia  1957   30.332   9240934  820.853030\n",
      "2  Afghanistan      Asia  1962   31.997  10267083  853.100710\n",
      "3  Afghanistan      Asia  1967   34.020  11537966  836.197138\n",
      "4  Afghanistan      Asia  1972   36.088  13079460  739.981106\n"
     ]
    }
   ],
   "source": [
    "# 4. Get the first 5 rows of the DataFrame\n",
    "print(\"First 5 rows of DataFrame:\")\n",
    "print(df.head())"
   ]
  },
  {
   "cell_type": "code",
   "execution_count": 6,
   "id": "ec758dfe-afc1-44ab-a100-55f49f2e118f",
   "metadata": {},
   "outputs": [
    {
     "name": "stdout",
     "output_type": "stream",
     "text": [
      "Descriptive Statistics:\n",
      "             year      lifeExp           pop      gdpPercap\n",
      "count  1704.00000  1704.000000  1.704000e+03    1704.000000\n",
      "mean   1979.50000    59.474439  2.960121e+07    7215.327081\n",
      "std      17.26533    12.917107  1.061579e+08    9857.454543\n",
      "min    1952.00000    23.599000  6.001100e+04     241.165876\n",
      "25%    1965.75000    48.198000  2.793664e+06    1202.060309\n",
      "50%    1979.50000    60.712500  7.023596e+06    3531.846988\n",
      "75%    1993.25000    70.845500  1.958522e+07    9325.462346\n",
      "max    2007.00000    82.603000  1.318683e+09  113523.132900\n"
     ]
    }
   ],
   "source": [
    "# 5. Generate descriptive statistics\n",
    "print(\"Descriptive Statistics:\")\n",
    "print(df.describe())"
   ]
  },
  {
   "cell_type": "code",
   "execution_count": null,
   "id": "6c187b6c-33d0-4fa7-a171-d0b28758683a",
   "metadata": {},
   "outputs": [],
   "source": []
  }
 ],
 "metadata": {
  "kernelspec": {
   "display_name": "Python 3 (ipykernel)",
   "language": "python",
   "name": "python3"
  },
  "language_info": {
   "codemirror_mode": {
    "name": "ipython",
    "version": 3
   },
   "file_extension": ".py",
   "mimetype": "text/x-python",
   "name": "python",
   "nbconvert_exporter": "python",
   "pygments_lexer": "ipython3",
   "version": "3.10.9"
  }
 },
 "nbformat": 4,
 "nbformat_minor": 5
}
