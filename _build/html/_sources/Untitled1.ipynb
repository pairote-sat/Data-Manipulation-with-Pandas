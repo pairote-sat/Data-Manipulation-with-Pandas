{
 "cells": [
  {
   "cell_type": "code",
   "execution_count": 2,
   "id": "64842bf9-9eac-4925-8f8c-758a250b25b0",
   "metadata": {},
   "outputs": [],
   "source": [
    "import numpy as np"
   ]
  },
  {
   "cell_type": "code",
   "execution_count": null,
   "id": "574ca595-bfad-449a-a34c-04f173b9c879",
   "metadata": {},
   "outputs": [],
   "source": [
    "np.random."
   ]
  }
 ],
 "metadata": {
  "kernelspec": {
   "display_name": "Python 3 (ipykernel)",
   "language": "python",
   "name": "python3"
  },
  "language_info": {
   "codemirror_mode": {
    "name": "ipython",
    "version": 3
   },
   "file_extension": ".py",
   "mimetype": "text/x-python",
   "name": "python",
   "nbconvert_exporter": "python",
   "pygments_lexer": "ipython3",
   "version": "3.10.9"
  }
 },
 "nbformat": 4,
 "nbformat_minor": 5
}
