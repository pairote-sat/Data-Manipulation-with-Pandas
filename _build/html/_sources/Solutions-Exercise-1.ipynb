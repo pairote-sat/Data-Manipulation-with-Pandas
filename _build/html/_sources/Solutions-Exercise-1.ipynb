{
 "cells": [
  {
   "cell_type": "markdown",
   "id": "28ce51ad-aa42-4bd7-bcb9-08a3ac4cc1ce",
   "metadata": {},
   "source": [
    "# Solutions for Exercise 1"
   ]
  },
  {
   "cell_type": "markdown",
   "id": "6d9518e0-2af5-4fde-9bef-ae48eafd8be1",
   "metadata": {},
   "source": [
    "```{admonition}  Question 1\n",
    ":class: tip\n",
    "1. What does the df.info() method tell you about the gapminder dataset?\n",
    "```\n",
    "\n",
    "```{admonition}  **Solution**\n",
    ":class: important\n",
    "\n",
    "<details>\n",
    "<summary>Click to toggle answer</summary>\n",
    "The df.info() method provides information about the number of rows and columns, the count of non-null entries in each column, the data types of each column, and the memory usage of the DataFrame.\n",
    "\n",
    "</details>\n",
    "```"
   ]
  },
  {
   "cell_type": "code",
   "execution_count": 4,
   "id": "f71b4650-6a12-4ef5-815f-0e2543d66bd0",
   "metadata": {
    "editable": true,
    "scrolled": true,
    "slideshow": {
     "slide_type": ""
    },
    "tags": [
     "hide-input"
    ]
   },
   "outputs": [],
   "source": [
    "import pandas as pd\n",
    "\n",
    "# URL to the raw CSV file on GitHub\n",
    "url = 'https://raw.githubusercontent.com/kirenz/datasets/master/gapminder.csv'\n",
    "\n",
    "# Read the CSV file into a DataFrame\n",
    "df = pd.read_csv(url)"
   ]
  },
  {
   "cell_type": "code",
   "execution_count": 3,
   "id": "7e6b3d6d-6e4a-4a30-8933-d169613445f5",
   "metadata": {},
   "outputs": [
    {
     "name": "stdout",
     "output_type": "stream",
     "text": [
      "<class 'pandas.core.frame.DataFrame'>\n",
      "RangeIndex: 1704 entries, 0 to 1703\n",
      "Data columns (total 6 columns):\n",
      " #   Column     Non-Null Count  Dtype  \n",
      "---  ------     --------------  -----  \n",
      " 0   country    1704 non-null   object \n",
      " 1   continent  1704 non-null   object \n",
      " 2   year       1704 non-null   int64  \n",
      " 3   lifeExp    1704 non-null   float64\n",
      " 4   pop        1704 non-null   int64  \n",
      " 5   gdpPercap  1704 non-null   float64\n",
      "dtypes: float64(2), int64(2), object(2)\n",
      "memory usage: 80.0+ KB\n"
     ]
    }
   ],
   "source": [
    "df.info()"
   ]
  },
  {
   "cell_type": "markdown",
   "id": "c4a8d5d8-b092-49e7-92f4-362645ebb648",
   "metadata": {},
   "source": [
    "```{admonition}  Question 2\n",
    ":class: tip\n",
    "2. How many rows and columns are present in the gapminder dataset? Use an appropriate attribute to find out.\n",
    "```\n",
    "\n",
    "```{admonition}  **Solution**\n",
    ":class: important\n",
    "\n",
    "<details>\n",
    "<summary>Click to toggle answer</summary>\n",
    "The shape attribute (df.shape) returns a tuple representing the dimensionality of the DataFrame. The first element of the tuple is the number of rows, and the second element is the number of columns.\n",
    "\n",
    "</details>\n",
    "```"
   ]
  },
  {
   "cell_type": "code",
   "execution_count": null,
   "id": "93d0d5dc-a3e9-4f3e-81d8-6440d64b3fe1",
   "metadata": {},
   "outputs": [],
   "source": [
    "df.shape"
   ]
  },
  {
   "cell_type": "markdown",
   "id": "c48d7fb1-6144-466a-9295-cff66e298d85",
   "metadata": {},
   "source": [
    "```{admonition}  Question 3\n",
    ":class: tip\n",
    "3. List all the column names of the gapminder dataset.\n",
    "```\n",
    "\n",
    "```{admonition}  **Solution**\n",
    ":class: important\n",
    "\n",
    "<details>\n",
    "<summary>Click to toggle answer</summary>\n",
    "The columns attribute (df.columns) returns the column labels of the DataFrame.\n",
    "</details>\n",
    "```"
   ]
  },
  {
   "cell_type": "code",
   "execution_count": null,
   "id": "0599fd33-95cb-44ec-888b-49cb4545343b",
   "metadata": {},
   "outputs": [],
   "source": [
    "df.columns"
   ]
  },
  {
   "cell_type": "markdown",
   "id": "2a06f1da-9281-4488-b9ec-683f9846e73e",
   "metadata": {},
   "source": [
    "```{admonition}  Question 4\n",
    ":class: tip\n",
    "4. Display the first 10 rows of the gapminder dataset. Which method would you use?\n",
    "```\n",
    "\n",
    "```{admonition}  **Solution**\n",
    ":class: important\n",
    "\n",
    "<details>\n",
    "<summary>Click to toggle answer</summary>\n",
    "The head() method can be used to display the first n rows of the DataFrame. To display the first 10 rows, you would use:\n",
    "</details>\n",
    "```"
   ]
  },
  {
   "cell_type": "code",
   "execution_count": null,
   "id": "e034944c-cdb1-48a7-9364-a31053afec6f",
   "metadata": {},
   "outputs": [],
   "source": [
    "df.head(10)"
   ]
  },
  {
   "cell_type": "markdown",
   "id": "c4db42d3-4234-4579-848b-07d2019dfbe8",
   "metadata": {},
   "source": [
    "```{admonition}  Question 5\n",
    ":class: tip\n",
    "5. What are the mean, standard deviation, and other summary statistics for the numeric columns in the gapminder dataset? Identify the method to retrieve this information.\n",
    "```\n",
    "\n",
    "```{admonition}  **Solution**\n",
    ":class: important\n",
    "\n",
    "<details>\n",
    "<summary>Click to toggle answer</summary>\n",
    "The describe() method generates descriptive statistics that summarize the central tendency, dispersion, and shape of a dataset’s distribution, excluding NaN values.\n",
    "</details>\n",
    "```"
   ]
  },
  {
   "cell_type": "code",
   "execution_count": null,
   "id": "47a56d35-a1ba-482f-b12e-b2903b6f5972",
   "metadata": {},
   "outputs": [],
   "source": [
    "df.describe()"
   ]
  }
 ],
 "metadata": {
  "kernelspec": {
   "display_name": "Python 3 (ipykernel)",
   "language": "python",
   "name": "python3"
  },
  "language_info": {
   "codemirror_mode": {
    "name": "ipython",
    "version": 3
   },
   "file_extension": ".py",
   "mimetype": "text/x-python",
   "name": "python",
   "nbconvert_exporter": "python",
   "pygments_lexer": "ipython3",
   "version": "3.10.9"
  }
 },
 "nbformat": 4,
 "nbformat_minor": 5
}
