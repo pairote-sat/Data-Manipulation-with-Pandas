{
 "cells": [
  {
   "cell_type": "markdown",
   "id": "ea17ffc1-f012-4675-8029-eb5a2d941d5f",
   "metadata": {},
   "source": [
    "# Slicing and Selecting in DataFrames in Pandas\""
   ]
  },
  {
   "cell_type": "markdown",
   "id": "633d14d9-cb8f-4c91-9288-c46e2fe240e2",
   "metadata": {},
   "source": [
    "When discussing \"Slicing and Selecting in DataFrames,\" we typically refer to accessing specific rows and columns of a DataFrame in pandas. Let's demonstrate this using the gapminder dataset, which contains demographic data over time across different countries.\n",
    "\n",
    "First, let's assume you have loaded the gapminder dataset into a pandas DataFrame."
   ]
  },
  {
   "cell_type": "code",
   "execution_count": 4,
   "id": "8a639045-c008-44bd-bd83-819097649e61",
   "metadata": {
    "editable": true,
    "scrolled": true,
    "slideshow": {
     "slide_type": ""
    },
    "tags": [
     "hide-input"
    ]
   },
   "outputs": [],
   "source": [
    "import pandas as pd\n",
    "\n",
    "# URL to the raw CSV file on GitHub\n",
    "url = 'https://raw.githubusercontent.com/kirenz/datasets/master/gapminder.csv'\n",
    "\n",
    "# Read the CSV file into a DataFrame\n",
    "gapminder = pd.read_csv(url)"
   ]
  },
  {
   "cell_type": "markdown",
   "id": "185a2922-6f87-42bf-aa36-1e20c8fdd664",
   "metadata": {},
   "source": [
    "## Using `.loc[]` for Label-Based Indexing\n",
    "\n",
    "The `.loc[]` indexer allows precise selection of rows and columns in a DataFrame using labels (index values). It provides a robust method to access specific subsets of data based on label-based indexing.\n"
   ]
  },
  {
   "cell_type": "markdown",
   "id": "57efea75-c966-4690-b2f1-fe1fb60f5089",
   "metadata": {},
   "source": [
    "```{admonition} **Syntax:**\n",
    "\n",
    "subset = df.loc[row_labels, column_labels]\n",
    "```\n",
    "\n",
    "```{admonition} **Description:**\n",
    ":class: hint\n",
    "- `row_labels`: Labels of the rows to select. Can be a single label, a list/array of labels, or a slice object.\n",
    "- `column_labels` (optional): Labels of the columns to select. Can be a single label, a list/array of labels, or a slice object.\n",
    "\n",
    "```"
   ]
  },
  {
   "cell_type": "markdown",
   "id": "972f151b-cef8-483b-865b-e5d98ac288c4",
   "metadata": {},
   "source": [
    "#### Example 1: Selecting a Single Row with All Columns\n",
    "\n",
    "Select data for the first row in the DataFrame:"
   ]
  },
  {
   "cell_type": "code",
   "execution_count": 6,
   "id": "2397a178-09f8-4064-8260-2bc4b5c6b5fd",
   "metadata": {},
   "outputs": [
    {
     "name": "stdout",
     "output_type": "stream",
     "text": [
      "country      Afghanistan\n",
      "continent           Asia\n",
      "year                1952\n",
      "lifeExp           28.801\n",
      "pop              8425333\n",
      "gdpPercap     779.445314\n",
      "Name: 0, dtype: object\n"
     ]
    }
   ],
   "source": [
    "subset = gapminder.loc[0]\n",
    "print(subset)"
   ]
  },
  {
   "cell_type": "markdown",
   "id": "50f36d01-9db5-483d-932d-f071364d68e2",
   "metadata": {},
   "source": [
    "####  Example 2: Selecting Specific Rows and Columns\n",
    "\n",
    "Select data for specific rows (indices 10, 20, 30) and columns ('country', 'year', 'pop'):"
   ]
  },
  {
   "cell_type": "code",
   "execution_count": 7,
   "id": "7a4f7e5f-08bd-48fe-9af1-f4f01b98ac1a",
   "metadata": {},
   "outputs": [
    {
     "name": "stdout",
     "output_type": "stream",
     "text": [
      "        country  year       pop\n",
      "10  Afghanistan  2002  25268405\n",
      "20      Albania  1992   3326498\n",
      "30      Algeria  1982  20033753\n"
     ]
    }
   ],
   "source": [
    "subset = gapminder.loc[[10, 20, 30], ['country', 'year', 'pop']]\n",
    "print(subset)"
   ]
  },
  {
   "cell_type": "markdown",
   "id": "3e02d164-addf-431e-acca-54a568219327",
   "metadata": {},
   "source": [
    "This will print out the specified columns for the rows with indices 10, 20, and 30 in the gapminder DataFrame."
   ]
  },
  {
   "cell_type": "markdown",
   "id": "a952abe5-7b7e-424d-82cf-0c95de7365a2",
   "metadata": {},
   "source": [
    "####  Example 3: Selecting All Rows for Specific Columns\n",
    "\n",
    "Select all rows for columns 'country', 'continent', and 'lifeExp':"
   ]
  },
  {
   "cell_type": "code",
   "execution_count": 8,
   "id": "9e82612b-0190-4b47-a024-f653b6564fff",
   "metadata": {},
   "outputs": [
    {
     "name": "stdout",
     "output_type": "stream",
     "text": [
      "       country continent  lifeExp\n",
      "0  Afghanistan      Asia   28.801\n",
      "1  Afghanistan      Asia   30.332\n",
      "2  Afghanistan      Asia   31.997\n",
      "3  Afghanistan      Asia   34.020\n",
      "4  Afghanistan      Asia   36.088\n"
     ]
    }
   ],
   "source": [
    "subset = gapminder.loc[:, ['country', 'continent', 'lifeExp']]\n",
    "print(subset.head())\n"
   ]
  },
  {
   "cell_type": "markdown",
   "id": "bbd70c1b-26a0-45e6-a34e-ba9f692e2231",
   "metadata": {},
   "source": [
    "This will display the first few rows of the gapminder DataFrame containing only the specified columns."
   ]
  },
  {
   "cell_type": "markdown",
   "id": "72e09d86-fd4a-4bc7-959e-3585f9646139",
   "metadata": {},
   "source": [
    "#### Example 4: Selecting Specific Rows and Columns\n",
    "\n",
    "Select rows for specific countries ('United States', 'China') and columns ('country', 'year', 'pop'):"
   ]
  },
  {
   "cell_type": "code",
   "execution_count": 9,
   "id": "3c3f2af2-084b-42ca-b2d7-42fe9ac99f1c",
   "metadata": {},
   "outputs": [
    {
     "name": "stdout",
     "output_type": "stream",
     "text": [
      "            country  year         pop\n",
      "288           China  1952   556263527\n",
      "289           China  1957   637408000\n",
      "290           China  1962   665770000\n",
      "291           China  1967   754550000\n",
      "292           China  1972   862030000\n",
      "293           China  1977   943455000\n",
      "294           China  1982  1000281000\n",
      "295           China  1987  1084035000\n",
      "296           China  1992  1164970000\n",
      "297           China  1997  1230075000\n",
      "298           China  2002  1280400000\n",
      "299           China  2007  1318683096\n",
      "1608  United States  1952   157553000\n",
      "1609  United States  1957   171984000\n",
      "1610  United States  1962   186538000\n",
      "1611  United States  1967   198712000\n",
      "1612  United States  1972   209896000\n",
      "1613  United States  1977   220239000\n",
      "1614  United States  1982   232187835\n",
      "1615  United States  1987   242803533\n",
      "1616  United States  1992   256894189\n",
      "1617  United States  1997   272911760\n",
      "1618  United States  2002   287675526\n",
      "1619  United States  2007   301139947\n"
     ]
    }
   ],
   "source": [
    "subset = gapminder.loc[gapminder['country'].isin(['United States', 'China']), ['country', 'year', 'pop']]\n",
    "print(subset)"
   ]
  },
  {
   "cell_type": "markdown",
   "id": "cdb9a3d2-439d-4c12-ad09-caa82337d6af",
   "metadata": {},
   "source": [
    "#### Example 5: Selecting Specific Rows with All Columns\n",
    "\n",
    "Select data for the country 'India':"
   ]
  },
  {
   "cell_type": "code",
   "execution_count": 10,
   "id": "7555fad1-995a-4082-901f-d2b1c26ec7a8",
   "metadata": {},
   "outputs": [
    {
     "name": "stdout",
     "output_type": "stream",
     "text": [
      "    country continent  year  lifeExp        pop   gdpPercap\n",
      "696   India      Asia  1952   37.373  372000000  546.565749\n",
      "697   India      Asia  1957   40.249  409000000  590.061996\n",
      "698   India      Asia  1962   43.605  454000000  658.347151\n",
      "699   India      Asia  1967   47.193  506000000  700.770611\n",
      "700   India      Asia  1972   50.651  567000000  724.032527\n"
     ]
    }
   ],
   "source": [
    "india_data = gapminder.loc[gapminder['country'] == 'India']\n",
    "print(india_data.head())"
   ]
  },
  {
   "cell_type": "markdown",
   "id": "1807dc78-bd83-4bbc-a331-da96d9000df7",
   "metadata": {},
   "source": [
    "```{Notes}\n",
    "\n",
    "- `.loc[]` allows precise selection of rows and columns using labels.\n",
    "- It's inclusive of both endpoints when using slices (`:`).\n",
    "- Ensure labels used are present in the DataFrame index to avoid `KeyError` exceptions.\n",
    "\n",
    "```"
   ]
  },
  {
   "cell_type": "markdown",
   "id": "5661e2da-0fae-4cd3-9a2f-45ceff4bed8a",
   "metadata": {},
   "source": [
    "<hr>"
   ]
  },
  {
   "cell_type": "markdown",
   "id": "0b60ec25-894d-4d6a-92cb-791b6b82c750",
   "metadata": {},
   "source": [
    "## Using `.iloc[]` for Integer-Based Indexing\n",
    "\n",
    "The `.iloc[]` indexer allows you to select rows and columns from a DataFrame using integer-based indexing. It provides a straightforward way to access specific subsets of data based on numerical positions.\n",
    "\n",
    "```{admonition} **Syntax:**\n",
    "\n",
    "subset = df.iloc[row_indices, column_indices]\n",
    "```\n",
    "\n",
    "```{admonition} **Description:**\n",
    ":class: hint\n",
    "- `row_indices`: Integer indices of the rows to select. This can be a single integer, a list/array of integers, or a slice object.\n",
    "- `column_indices` (optional): Integer indices of the columns to select. This can also be a single integer, a list/array of integers, or a slice object.\n",
    "```"
   ]
  },
  {
   "cell_type": "markdown",
   "id": "fc4e74a3-c5e5-4717-995a-88cb1df2637a",
   "metadata": {},
   "source": [
    "#### Examples 6: Selecting specific rows and columns:\n",
    "\n",
    "Select data for the first three rows and columns 'country', 'year', and 'pop':"
   ]
  },
  {
   "cell_type": "code",
   "execution_count": 11,
   "id": "a12220eb-05eb-401c-b4bb-b2bd908ad0b3",
   "metadata": {},
   "outputs": [
    {
     "name": "stdout",
     "output_type": "stream",
     "text": [
      "       country continent       pop\n",
      "0  Afghanistan      Asia   8425333\n",
      "1  Afghanistan      Asia   9240934\n",
      "2  Afghanistan      Asia  10267083\n"
     ]
    }
   ],
   "source": [
    "subset = gapminder.iloc[:3, [0, 1, 4]]\n",
    "print(subset)"
   ]
  },
  {
   "cell_type": "markdown",
   "id": "b5133557-4b7e-4ec8-b021-3df22b1b4f8d",
   "metadata": {},
   "source": [
    "####  Example 7: Selecting All Rows for Specific Columns\n",
    "\n",
    "Select all rows for columns at positions 0, 3, and 5:"
   ]
  },
  {
   "cell_type": "code",
   "execution_count": 12,
   "id": "122ef992-425d-4ee4-86ff-cede4668a172",
   "metadata": {},
   "outputs": [
    {
     "name": "stdout",
     "output_type": "stream",
     "text": [
      "       country  lifeExp   gdpPercap\n",
      "0  Afghanistan   28.801  779.445314\n",
      "1  Afghanistan   30.332  820.853030\n",
      "2  Afghanistan   31.997  853.100710\n",
      "3  Afghanistan   34.020  836.197138\n",
      "4  Afghanistan   36.088  739.981106\n"
     ]
    }
   ],
   "source": [
    "subset = gapminder.iloc[:, [0, 3, 5]]\n",
    "print(subset.head())"
   ]
  },
  {
   "cell_type": "markdown",
   "id": "40348a9b-0ad1-4d47-9ccf-afa42c94825d",
   "metadata": {},
   "source": [
    "This will display the first few rows of the gapminder DataFrame containing only the columns at positions 0, 3, and 5."
   ]
  },
  {
   "cell_type": "markdown",
   "id": "5a132242-54f8-4f3a-881c-0b5167ffd4bd",
   "metadata": {},
   "source": [
    "#### Example 8: Selecting a Single Row with All Columns\n",
    "\n",
    "Select data for the row at position 100:"
   ]
  },
  {
   "cell_type": "code",
   "execution_count": 15,
   "id": "458c36a2-4f30-4981-ae1f-716b0f60630b",
   "metadata": {},
   "outputs": [
    {
     "name": "stdout",
     "output_type": "stream",
     "text": [
      "country      Bangladesh\n",
      "continent          Asia\n",
      "year               1972\n",
      "lifeExp          45.252\n",
      "pop            70759295\n",
      "gdpPercap    630.233627\n",
      "Name: 100, dtype: object\n"
     ]
    }
   ],
   "source": [
    "row_data = gapminder.iloc[100]\n",
    "print(row_data)"
   ]
  },
  {
   "cell_type": "markdown",
   "id": "0b5b0b3b-d89e-4699-a548-faae48d2068d",
   "metadata": {},
   "source": [
    "## Using Boolean Indexing\n",
    "\n",
    "Boolean indexing in pandas allows you to filter rows of a DataFrame based on a condition expressed as a boolean array. This method is versatile and powerful for selecting subsets of data that meet specific criteria.\n",
    "\n",
    "```{admonition} **Syntax:**\n",
    "\n",
    "To perform boolean indexing, you typically use a boolean condition that evaluates to `True` or `False` for each row in the DataFrame. The condition can involve comparisons, logical operations (`&`, `|`, `~`), or boolean masks.\n",
    "\n",
    "```\n",
    "\n",
    "#### Example 9: Selecting data for the year 2007 using boolean indexing\n"
   ]
  },
  {
   "cell_type": "code",
   "execution_count": 16,
   "id": "eec24207-09da-4e41-a219-e5cf915339b1",
   "metadata": {},
   "outputs": [
    {
     "name": "stdout",
     "output_type": "stream",
     "text": [
      "        country continent  year  lifeExp       pop     gdpPercap\n",
      "11  Afghanistan      Asia  2007   43.828  31889923    974.580338\n",
      "23      Albania    Europe  2007   76.423   3600523   5937.029526\n",
      "35      Algeria    Africa  2007   72.301  33333216   6223.367465\n",
      "47       Angola    Africa  2007   42.731  12420476   4797.231267\n",
      "59    Argentina  Americas  2007   75.320  40301927  12779.379640\n"
     ]
    }
   ],
   "source": [
    "subset_bool = gapminder[gapminder['year'] == 2007]\n",
    "print(subset_bool.head())"
   ]
  },
  {
   "cell_type": "markdown",
   "id": "9da830d2-8772-4930-b385-4b7bcd3962ac",
   "metadata": {},
   "source": [
    "#### Example 10: Selecting Data with Two Conditions\n",
    "\n",
    "Selecting data for countries 'United States' and 'China' in the year 2007"
   ]
  },
  {
   "cell_type": "code",
   "execution_count": 17,
   "id": "d86d8c0c-f0bd-4b78-a2f7-a10e28508cec",
   "metadata": {},
   "outputs": [
    {
     "name": "stdout",
     "output_type": "stream",
     "text": [
      "            country continent  year  lifeExp         pop     gdpPercap\n",
      "299           China      Asia  2007   72.961  1318683096   4959.114854\n",
      "1619  United States  Americas  2007   78.242   301139947  42951.653090\n"
     ]
    }
   ],
   "source": [
    "subset_bool = gapminder[(gapminder['country'].isin(['United States', 'China'])) & (gapminder['year'] == 2007)]\n",
    "print(subset_bool.head())"
   ]
  },
  {
   "cell_type": "markdown",
   "id": "96970a3f-a25a-4359-8c7c-090ca4b5d21f",
   "metadata": {},
   "source": [
    "* `(gapminder['country'].isin(['United States', 'China']))` creates a boolean mask selecting rows where the country is either 'United States' or 'China'.\n",
    "* `(gapminder['year'] == 2007)` creates another boolean mask selecting rows where the year is 2007.\n",
    "* The `&` operator combines both boolean masks, ensuring both conditions are `True` for a row to be included in `subset_bool`."
   ]
  },
  {
   "cell_type": "markdown",
   "id": "36ff5887-abc1-4b0b-8261-0bdaef70ce4a",
   "metadata": {},
   "source": [
    "#### Example 11:  Selecting Data with Three Conditions\n",
    "\n",
    "Selecting data for countries with population greater than 1 billion, in Asia, and before the year 2000\n"
   ]
  },
  {
   "cell_type": "code",
   "execution_count": 18,
   "id": "1f68969f-0ab6-404e-97f9-f22e6387c195",
   "metadata": {},
   "outputs": [
    {
     "name": "stdout",
     "output_type": "stream",
     "text": [
      "    country continent  year  lifeExp         pop    gdpPercap\n",
      "294   China      Asia  1982   65.525  1000281000   962.421381\n",
      "295   China      Asia  1987   67.274  1084035000  1378.904018\n",
      "296   China      Asia  1992   68.690  1164970000  1655.784158\n",
      "297   China      Asia  1997   70.426  1230075000  2289.234136\n"
     ]
    }
   ],
   "source": [
    "subset_bool = gapminder[(gapminder['pop'] > 1e9) & (gapminder['continent'] == 'Asia') & (gapminder['year'] < 2000)]\n",
    "print(subset_bool.head())"
   ]
  },
  {
   "cell_type": "markdown",
   "id": "82d89e63-7458-4b21-b17f-82975242de70",
   "metadata": {},
   "source": [
    "* `(gapminder['pop'] > 1e9)` selects rows where the population (pop) is greater than 1 billion.\n",
    "* `(gapminder['continent'] == 'Asia')` selects rows where the continent is 'Asia'.\n",
    "* `(gapminder['year'] < 2000)` selects rows where the year is before 2000.\n",
    "* The `&` operator combines all three conditions, ensuring all conditions must be `True` for a row to be included in `subset_bool`."
   ]
  },
  {
   "cell_type": "markdown",
   "id": "b4c6133f-bbd0-4b29-812a-e01da040e7d3",
   "metadata": {},
   "source": [
    "```{Notes}\n",
    "\n",
    "* Use parentheses `()` to group conditions properly, especially when combining multiple conditions.\n",
    "* Boolean indexing (`[]`) allows flexible and powerful filtering based on complex criteria in pandas DataFrames.\n",
    "* Ensure conditions are logically structured to accurately capture the subset of data needed for analysis.\n",
    "\n",
    "```"
   ]
  },
  {
   "cell_type": "markdown",
   "id": "15d6262f-a9b7-4e8b-87fa-6b3412965c3d",
   "metadata": {},
   "source": [
    "## Using `.query()` for Conditional Selection\n",
    "\n",
    "`.query()` is a method in pandas that allows you to filter rows of a DataFrame using a boolean expression. It provides a convenient way to write complex queries without explicitly referencing the DataFrame each time.\n",
    "\n",
    "\n",
    "```{admonition} **Syntax:**\n",
    "\n",
    "To use `.query()`, you specify a string containing the boolean expression as the argument. This expression can reference column names directly.\n",
    "```\n",
    "\n",
    "#### Example 12: Basic Usage\n",
    "Selecting data for the year 2007 using .query()"
   ]
  },
  {
   "cell_type": "code",
   "execution_count": 19,
   "id": "d451a291-afba-4a23-bd85-1d9e99e9a821",
   "metadata": {},
   "outputs": [
    {
     "name": "stdout",
     "output_type": "stream",
     "text": [
      "        country continent  year  lifeExp       pop     gdpPercap\n",
      "11  Afghanistan      Asia  2007   43.828  31889923    974.580338\n",
      "23      Albania    Europe  2007   76.423   3600523   5937.029526\n",
      "35      Algeria    Africa  2007   72.301  33333216   6223.367465\n",
      "47       Angola    Africa  2007   42.731  12420476   4797.231267\n",
      "59    Argentina  Americas  2007   75.320  40301927  12779.379640\n"
     ]
    }
   ],
   "source": [
    "subset_query = gapminder.query(\"year == 2007\")\n",
    "print(subset_query.head())"
   ]
  },
  {
   "cell_type": "markdown",
   "id": "9742a820-ba21-4e45-98a7-bc6a95fed5ed",
   "metadata": {},
   "source": [
    "In this example:\n",
    "\n",
    "* `year == 2007` is the boolean expression passed to `.query()`, selecting rows where the year column equals 2007."
   ]
  },
  {
   "cell_type": "markdown",
   "id": "226a8d70-3a12-41be-8cd6-e1f834c12c58",
   "metadata": {},
   "source": [
    "#### Example 13:  Using Logical Operators\n",
    "Selecting data for countries with life expectancy greater than 80 and GDP per capita greater than 35000 in 2007"
   ]
  },
  {
   "cell_type": "code",
   "execution_count": 32,
   "id": "bb614299-72e2-4371-b68a-6b9b3270c5f5",
   "metadata": {},
   "outputs": [
    {
     "name": "stdout",
     "output_type": "stream",
     "text": [
      "               country continent  year  lifeExp       pop    gdpPercap\n",
      "251             Canada  Americas  2007   80.653  33390141  36319.23501\n",
      "671   Hong Kong, China      Asia  2007   82.208   6980412  39724.97867\n",
      "695            Iceland    Europe  2007   81.757    301931  36180.78919\n",
      "1151            Norway    Europe  2007   80.196   4627926  49357.19017\n",
      "1487       Switzerland    Europe  2007   81.701   7554661  37506.41907\n"
     ]
    }
   ],
   "source": [
    "subset_query = gapminder.query(\"lifeExp > 80 & gdpPercap > 35000 & year == 2007\")\n",
    "print(subset_query.head())"
   ]
  },
  {
   "cell_type": "markdown",
   "id": "d6cf6529-df05-4d88-be94-8c47c49ec97d",
   "metadata": {},
   "source": [
    "In this example:\n",
    "\n",
    "* `lifeExp > 80 & gdpPercap > 35000 & year == 2007` combines multiple conditions using logical operators (&), selecting rows where life expectancy (lifeExp) is greater than 80, GDP per capita (gdpPercap) is greater than 35000, and year is 2007."
   ]
  },
  {
   "cell_type": "markdown",
   "id": "6ff85008-bec3-4a79-9cc1-9fa7eb1f7565",
   "metadata": {},
   "source": [
    "#### Example 14:  Using String Methods\n",
    "\n",
    "Selecting data for countries starting with 'A' in the year 2007"
   ]
  },
  {
   "cell_type": "code",
   "execution_count": 33,
   "id": "27018d96-f099-4e0d-84ed-7f2dc1b6e7aa",
   "metadata": {},
   "outputs": [
    {
     "name": "stdout",
     "output_type": "stream",
     "text": [
      "        country continent  year  lifeExp       pop     gdpPercap\n",
      "11  Afghanistan      Asia  2007   43.828  31889923    974.580338\n",
      "23      Albania    Europe  2007   76.423   3600523   5937.029526\n",
      "35      Algeria    Africa  2007   72.301  33333216   6223.367465\n",
      "47       Angola    Africa  2007   42.731  12420476   4797.231267\n",
      "59    Argentina  Americas  2007   75.320  40301927  12779.379640\n"
     ]
    }
   ],
   "source": [
    "subset_query = gapminder.query(\"country.str.startswith('A') & year == 2007\")\n",
    "print(subset_query.head())"
   ]
  },
  {
   "cell_type": "markdown",
   "id": "f8fdce60-b920-4c39-9c12-7ec584fcc63a",
   "metadata": {},
   "source": [
    "In this example:\n",
    "\n",
    "* `country.str.startswith('A') & year == 2007` uses string methods (`str.startswith()`) to filter rows where the country name starts with 'A' and the year is 2007."
   ]
  },
  {
   "cell_type": "markdown",
   "id": "1b91ddae-bf55-4437-8543-0ae0a52b132b",
   "metadata": {},
   "source": [
    "```{Notes}\n",
    "\n",
    "*`.query()` is useful for writing concise and readable code for conditional selection.\n",
    "* Ensure the boolean expression is correctly formatted within the query string.\n",
    "* Column names used in the query can be referenced directly without using the DataFrame name.\n",
    "\n",
    "```"
   ]
  },
  {
   "cell_type": "code",
   "execution_count": null,
   "id": "cf813709-ea0e-492b-9907-64873f7c9eb2",
   "metadata": {},
   "outputs": [],
   "source": []
  }
 ],
 "metadata": {
  "kernelspec": {
   "display_name": "Python 3 (ipykernel)",
   "language": "python",
   "name": "python3"
  },
  "language_info": {
   "codemirror_mode": {
    "name": "ipython",
    "version": 3
   },
   "file_extension": ".py",
   "mimetype": "text/x-python",
   "name": "python",
   "nbconvert_exporter": "python",
   "pygments_lexer": "ipython3",
   "version": "3.10.9"
  }
 },
 "nbformat": 4,
 "nbformat_minor": 5
}
