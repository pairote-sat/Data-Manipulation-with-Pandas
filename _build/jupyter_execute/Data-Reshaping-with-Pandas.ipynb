{
 "cells": [
  {
   "cell_type": "markdown",
   "id": "0b1cc552-47a3-4f9c-ba3c-f85f586d9362",
   "metadata": {},
   "source": [
    "# Data Reshaping with Pandas"
   ]
  },
  {
   "cell_type": "markdown",
   "id": "9be39743-efe9-4332-a2dd-baa36c9f4c8a",
   "metadata": {},
   "source": [
    "In data analysis, reshaping a pandas dataframe is a common activity. Changing a table's format from long to wide or wide to long is also known as transposing, pivoting, or unpivoting.\n",
    "\n",
    "## Wide vs. Long Format\n",
    "\n",
    "Wide and long formats are two ways of organizing data. Both formats contain the same information but are structured differently.\n",
    "\n",
    "### Example:\n",
    "- **Wide Format:** Each variable is in a separate column.\n",
    "- **Long Format:** Variables are stacked in a single column, with an additional column indicating the variable name.\n",
    "\n",
    "![Data Transformation 101](https://media.licdn.com/dms/image/D4D12AQENzwkJOrmSMA/article-cover_image-shrink_720_1280/0/1708642953419?e=1724889600&v=beta&t=knn2GFkWyHcNm51cGdscjephJ4L5k2sE6cd1tjaVV5Q)\n",
    "\n",
    "*Image source: [Data Transformation 101 using pandas.melt to convert wide format data to long format](https://www.linkedin.com/pulse/data-transformation-101-using-pandasmelt-convert-wide-gabriel-ejiro-dklqf/)*\n",
    "\n",
    "\n",
    "\n",
    "## When to Use Wide or Long Format?\n",
    "\n",
    "- **Usability:** Consider how the data will be used. For example, a very wide table with 300 columns (one for each date) might be difficult to analyze. Converting it to long format could make it easier to work with.\n",
    "- **Readability:** Ensure the data is easy to understand. For example, a long table with 300 different values for a key might be more readable in wide format, with each key as a separate column."
   ]
  },
  {
   "cell_type": "markdown",
   "id": "3a48190a-a850-417f-b4dd-d24fc3cf8a96",
   "metadata": {},
   "source": [
    "## From Long to Wide and Back Again: Pivoting and Unpivoting in Pandas\n",
    "\n",
    "### Pivoting Columns\n",
    "**Pivoting** means turning unique values from one column into separate columns, creating a more spread-out table. It's often used to make data more readable and to summarize it in a compact format. In essence, pivoting transforms a long table into a wide table.\n",
    "\n",
    "#### Example: Pivoting\n",
    "\n",
    "Imagine you have a table of sales data.\n",
    "\n",
    "| Date       | Product | Sales |\n",
    "|------------|---------|-------|\n",
    "| 2024-01-01 | A       | 10    |\n",
    "| 2024-01-01 | B       | 20    |\n",
    "| 2024-01-02 | A       | 15    |\n",
    "| 2024-01-02 | B       | 25    |\n",
    "\n",
    "\n",
    "Pivoting this data on the `Product` column will spread out the sales data for each product into separate columns.\n",
    "\n",
    "| Date       | A  | B  |\n",
    "|------------|----|----|\n",
    "| 2024-01-01 | 10 | 20 |\n",
    "| 2024-01-02 | 15 | 25 |\n",
    "\n",
    "\n",
    "### Unpivoting Columns\n",
    "**Unpivoting** (also known as **melting**) is the reverse of pivoting. It takes columns and transforms them into rows. This is useful for converting a wide table into a long table, which is often easier to analyze and visualize.\n",
    "\n",
    "#### Example\n",
    "If you start with the pivoted table.\n",
    "\n",
    "| Date       | A  | B  |\n",
    "|------------|----|----|\n",
    "| 2024-01-01 | 10 | 20 |\n",
    "| 2024-01-02 | 15 | 25 |\n",
    "\n",
    "Unpivoting it will convert the `A` and `B` columns back into rows:\n",
    "\n",
    "| Date       | Product | Sales |\n",
    "|------------|---------|-------|\n",
    "| 2024-01-01 | A       | 10    |\n",
    "| 2024-01-01 | B       | 20    |\n",
    "| 2024-01-02 | A       | 15    |\n",
    "| 2024-01-02 | B       | 25    |\n",
    "\n"
   ]
  },
  {
   "cell_type": "markdown",
   "id": "9a98919c-5379-458d-942f-7ddb689598f0",
   "metadata": {},
   "source": [
    "#### Example 1: Wide to Long Format with `melt()`\n",
    "Recall that the original Gapminder dataframe is in wide format. This example shows how to convert the Gapminder dataset from wide to long format to stack the `lifeExp`, `pop`, and `gdpPercap` columns into a single column.\n"
   ]
  },
  {
   "cell_type": "markdown",
   "id": "a6407cee-f83f-4fb2-8c1c-4385107892a0",
   "metadata": {},
   "source": [
    "```{admonition} **Syntax for Data Reshaping in Pandas:**\n",
    "\n",
    "`melt()`: Convert from wide to long format\n",
    "\n",
    "df.melt(id_vars='...', value_vars=['...', '...'], var_name='...', value_name='...')\n",
    "\n",
    "```\n",
    "\n",
    "```{admonition} **Description:**\n",
    ":class: hint\n",
    "- `df`: The dataframe you want to reshape.\n",
    "\n",
    "- `id_vars`: Columns to keep fixed (identifiers), which will remain as they are. These columns are not unpivoted.\n",
    "\n",
    "- `value_vars`: Columns to unpivot. These columns are transformed from wide format to long format.\n",
    "\n",
    "- `var_name`: Name of the new column that will contain the unpivoted column names. This column will contain the names of the original `value_vars`.\n",
    "\n",
    "- `value_name`: Name of the new column that will contain the values from the unpivoted columns. This column will contain the values from the original `value_vars`.\n",
    "\n",
    "\n",
    "```"
   ]
  },
  {
   "cell_type": "code",
   "execution_count": 1,
   "id": "79c37e68-ecc4-478e-ba1c-d73b3de06a70",
   "metadata": {
    "editable": true,
    "scrolled": true,
    "slideshow": {
     "slide_type": ""
    },
    "tags": [
     "hide-input"
    ]
   },
   "outputs": [],
   "source": [
    "import pandas as pd\n",
    "\n",
    "# URL to the raw CSV file on GitHub\n",
    "url = 'https://raw.githubusercontent.com/kirenz/datasets/master/gapminder.csv'\n",
    "\n",
    "# Read the CSV file into a DataFrame\n",
    "df = pd.read_csv(url)"
   ]
  },
  {
   "cell_type": "code",
   "execution_count": 2,
   "id": "012d9c81-9fd7-41b1-8018-d504685ea8b1",
   "metadata": {},
   "outputs": [
    {
     "data": {
      "text/html": [
       "<div>\n",
       "<style scoped>\n",
       "    .dataframe tbody tr th:only-of-type {\n",
       "        vertical-align: middle;\n",
       "    }\n",
       "\n",
       "    .dataframe tbody tr th {\n",
       "        vertical-align: top;\n",
       "    }\n",
       "\n",
       "    .dataframe thead th {\n",
       "        text-align: right;\n",
       "    }\n",
       "</style>\n",
       "<table border=\"1\" class=\"dataframe\">\n",
       "  <thead>\n",
       "    <tr style=\"text-align: right;\">\n",
       "      <th></th>\n",
       "      <th>country</th>\n",
       "      <th>continent</th>\n",
       "      <th>year</th>\n",
       "      <th>lifeExp</th>\n",
       "      <th>pop</th>\n",
       "      <th>gdpPercap</th>\n",
       "    </tr>\n",
       "  </thead>\n",
       "  <tbody>\n",
       "    <tr>\n",
       "      <th>0</th>\n",
       "      <td>Afghanistan</td>\n",
       "      <td>Asia</td>\n",
       "      <td>1952</td>\n",
       "      <td>28.801</td>\n",
       "      <td>8425333</td>\n",
       "      <td>779.445314</td>\n",
       "    </tr>\n",
       "    <tr>\n",
       "      <th>1</th>\n",
       "      <td>Afghanistan</td>\n",
       "      <td>Asia</td>\n",
       "      <td>1957</td>\n",
       "      <td>30.332</td>\n",
       "      <td>9240934</td>\n",
       "      <td>820.853030</td>\n",
       "    </tr>\n",
       "    <tr>\n",
       "      <th>2</th>\n",
       "      <td>Afghanistan</td>\n",
       "      <td>Asia</td>\n",
       "      <td>1962</td>\n",
       "      <td>31.997</td>\n",
       "      <td>10267083</td>\n",
       "      <td>853.100710</td>\n",
       "    </tr>\n",
       "    <tr>\n",
       "      <th>3</th>\n",
       "      <td>Afghanistan</td>\n",
       "      <td>Asia</td>\n",
       "      <td>1967</td>\n",
       "      <td>34.020</td>\n",
       "      <td>11537966</td>\n",
       "      <td>836.197138</td>\n",
       "    </tr>\n",
       "    <tr>\n",
       "      <th>4</th>\n",
       "      <td>Afghanistan</td>\n",
       "      <td>Asia</td>\n",
       "      <td>1972</td>\n",
       "      <td>36.088</td>\n",
       "      <td>13079460</td>\n",
       "      <td>739.981106</td>\n",
       "    </tr>\n",
       "  </tbody>\n",
       "</table>\n",
       "</div>"
      ],
      "text/plain": [
       "       country continent  year  lifeExp       pop   gdpPercap\n",
       "0  Afghanistan      Asia  1952   28.801   8425333  779.445314\n",
       "1  Afghanistan      Asia  1957   30.332   9240934  820.853030\n",
       "2  Afghanistan      Asia  1962   31.997  10267083  853.100710\n",
       "3  Afghanistan      Asia  1967   34.020  11537966  836.197138\n",
       "4  Afghanistan      Asia  1972   36.088  13079460  739.981106"
      ]
     },
     "execution_count": 2,
     "metadata": {},
     "output_type": "execute_result"
    }
   ],
   "source": [
    "# Recall that the original Gapminder dataframe is in wide format\n",
    "\n",
    "df.head()"
   ]
  },
  {
   "cell_type": "code",
   "execution_count": 3,
   "id": "d48adcb0-b79f-4799-96f1-72072ccbae31",
   "metadata": {},
   "outputs": [
    {
     "name": "stdout",
     "output_type": "stream",
     "text": [
      "       country continent  year variable   value\n",
      "0  Afghanistan      Asia  1952  lifeExp  28.801\n",
      "1  Afghanistan      Asia  1957  lifeExp  30.332\n",
      "2  Afghanistan      Asia  1962  lifeExp  31.997\n",
      "3  Afghanistan      Asia  1967  lifeExp  34.020\n",
      "4  Afghanistan      Asia  1972  lifeExp  36.088\n",
      "5  Afghanistan      Asia  1977  lifeExp  38.438\n",
      "6  Afghanistan      Asia  1982  lifeExp  39.854\n",
      "7  Afghanistan      Asia  1987  lifeExp  40.822\n",
      "8  Afghanistan      Asia  1992  lifeExp  41.674\n",
      "9  Afghanistan      Asia  1997  lifeExp  41.763\n"
     ]
    }
   ],
   "source": [
    "# Wide to long format\n",
    "df_long = pd.melt(df, id_vars=['country', 'continent', 'year'], \n",
    "                  value_vars=['lifeExp', 'pop', 'gdpPercap'],\n",
    "                  var_name='variable', value_name='value')\n",
    "print(df_long.head(10))"
   ]
  },
  {
   "cell_type": "markdown",
   "id": "c97d89a9-0c7e-448c-add0-07e575d81617",
   "metadata": {},
   "source": [
    "#### Example 2: Long to Wide Format with `pivot()`\n",
    "This example shows how to converting the reshaped long format of the Gapminder dataset back to its original wide format.\n"
   ]
  },
  {
   "cell_type": "markdown",
   "id": "5c2eeb2c-a677-4d18-80dd-af601a3ba5f4",
   "metadata": {},
   "source": [
    "```{admonition} **Syntax for Data Reshaping in Pandas:**\n",
    "\n",
    "`pivot()`: Convert from long to wide format\n",
    "\n",
    "df.pivot(index='...', columns='...', values='...')\n",
    "\n",
    "```\n",
    "\n",
    "```{admonition} **Description:**\n",
    ":class: hint\n",
    "- `df`: The dataframe you want to reshape.\n",
    "\n",
    "- `index`: Column to use to make new frame's index. This column remains fixed and the values become row indices in the pivoted dataframe.\n",
    "\n",
    "- `columns`: Column to use to make new frame's columns. The unique values in this column become the new column headers in the pivoted dataframe.\n",
    "\n",
    "- `values`: Column(s) to use for populating the new frame's values. The data from this column fills the cells in the pivoted dataframe.\n",
    "\n",
    "\n",
    "\n",
    "```"
   ]
  },
  {
   "cell_type": "code",
   "execution_count": 4,
   "id": "63adf223-0129-486c-b15c-62f8f3c07682",
   "metadata": {},
   "outputs": [
    {
     "name": "stdout",
     "output_type": "stream",
     "text": [
      "variable      country continent  year   gdpPercap  lifeExp         pop\n",
      "0         Afghanistan      Asia  1952  779.445314   28.801   8425333.0\n",
      "1         Afghanistan      Asia  1957  820.853030   30.332   9240934.0\n",
      "2         Afghanistan      Asia  1962  853.100710   31.997  10267083.0\n",
      "3         Afghanistan      Asia  1967  836.197138   34.020  11537966.0\n",
      "4         Afghanistan      Asia  1972  739.981106   36.088  13079460.0\n"
     ]
    }
   ],
   "source": [
    "# Assuming df_long from the previous example\n",
    "df_wide = df_long.pivot(index=['country', 'continent', 'year'], \n",
    "                        columns='variable', values='value').reset_index()\n",
    "print(df_wide.head())"
   ]
  },
  {
   "cell_type": "markdown",
   "id": "a1bac729-a15d-46b6-951e-048aa2660a00",
   "metadata": {},
   "source": [
    "```{note}\n",
    "`.reset_index()`: Convert the index of the pivoted dataframe into columns\n",
    "\n",
    "After pivoting, the index of the resulting dataframe is composed of the specified `index` columns (`country`, `continent`, `year`). Using `.reset_index()` converts these index columns back into regular columns, making the dataframe easier to work with for further analysis.\n",
    "\n",
    "```\n"
   ]
  }
 ],
 "metadata": {
  "kernelspec": {
   "display_name": "Python 3 (ipykernel)",
   "language": "python",
   "name": "python3"
  },
  "language_info": {
   "codemirror_mode": {
    "name": "ipython",
    "version": 3
   },
   "file_extension": ".py",
   "mimetype": "text/x-python",
   "name": "python",
   "nbconvert_exporter": "python",
   "pygments_lexer": "ipython3",
   "version": "3.10.9"
  }
 },
 "nbformat": 4,
 "nbformat_minor": 5
}