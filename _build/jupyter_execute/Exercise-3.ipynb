{
 "cells": [
  {
   "cell_type": "markdown",
   "id": "cf20be43-ce60-4f52-9013-6fac74bc8c98",
   "metadata": {},
   "source": [
    "# Exercise 3: Creating or Removing Columns from DataFrame in Pandas\n",
    "\n",
    "These exercises cover various aspects of slicing and selecting data in pandas DataFrames, including basic filtering, conditional selection, and more complex queries. They are designed to enhance your skills in using `.loc[]`, `.iloc[]`, boolean indexing, and `.query()` methods effectively for data manipulation tasks."
   ]
  },
  {
   "cell_type": "markdown",
   "id": "aff0713e-513b-4807-9941-21c865a3f339",
   "metadata": {},
   "source": [
    "## Standard Questions\n",
    "\n",
    "1. Create a new column: Add 'population_millions' that converts 'pop' (population) to millions.\n",
    "\n",
    "2. Remove unnecessary columns: Drop 'continent' and 'gdpPercap'.\n",
    "\n",
    "3. Calculate a new column: Compute 'gdp' as the product of 'pop' and 'gdpPercap'.\n",
    "\n",
    "4. Rename the column: Change 'lifeExp' to 'life_expectancy'.\n",
    "\n",
    "5. Reorder columns: Arrange 'country', 'year', 'pop', 'life_expectancy', 'gdpPercap' as the first five columns.\n",
    "\n",
    "\n",
    "## Challenging Questions\n",
    "\n",
    "6. Create a column with conditions: Categorize 'life_expectancy' into 'Low', 'Medium', and 'High' using quartiles.\n",
    "\n",
    "7. Groupby calculation: Determine the average 'gdpPercap' for each country.\n",
    "\n",
    "8. Add a calculated column: Include 'Population_Density' assuming 1,000,000 square kilometers per country.\n",
    "\n",
    "9. Remove rows with missing values: Drop rows where 'gdpPercap' or 'life_expectancy' is null.\n",
    "\n",
    "10. Cumulative calculation: Compute 'Cumulative_Population' showing total population up to each year for each country.\n"
   ]
  }
 ],
 "metadata": {
  "kernelspec": {
   "display_name": "Python 3 (ipykernel)",
   "language": "python",
   "name": "python3"
  },
  "language_info": {
   "codemirror_mode": {
    "name": "ipython",
    "version": 3
   },
   "file_extension": ".py",
   "mimetype": "text/x-python",
   "name": "python",
   "nbconvert_exporter": "python",
   "pygments_lexer": "ipython3",
   "version": "3.10.9"
  }
 },
 "nbformat": 4,
 "nbformat_minor": 5
}