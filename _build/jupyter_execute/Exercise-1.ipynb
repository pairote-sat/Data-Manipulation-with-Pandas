{
 "cells": [
  {
   "cell_type": "markdown",
   "id": "cf20be43-ce60-4f52-9013-6fac74bc8c98",
   "metadata": {},
   "source": [
    "# Exercise 1: Basic Attributes and Methods using gapminder\n"
   ]
  },
  {
   "cell_type": "markdown",
   "id": "c3e60fac-0034-440c-8f38-153f5aaa9f57",
   "metadata": {},
   "source": [
    "1. What does the df.info() method tell you about the gapminder dataset?\n",
    "2. How many rows and columns are present in the gapminder dataset? Use an appropriate attribute to find out.\n",
    "3. List all the column names of the gapminder dataset.\n",
    "4. Display the first 10 rows of the gapminder dataset. Which method would you use?\n",
    "5. What are the mean, standard deviation, and other summary statistics for the numeric columns in the gapminder dataset? Identify the method to retrieve this information.\n"
   ]
  }
 ],
 "metadata": {
  "kernelspec": {
   "display_name": "Python 3 (ipykernel)",
   "language": "python",
   "name": "python3"
  },
  "language_info": {
   "codemirror_mode": {
    "name": "ipython",
    "version": 3
   },
   "file_extension": ".py",
   "mimetype": "text/x-python",
   "name": "python",
   "nbconvert_exporter": "python",
   "pygments_lexer": "ipython3",
   "version": "3.10.9"
  }
 },
 "nbformat": 4,
 "nbformat_minor": 5
}