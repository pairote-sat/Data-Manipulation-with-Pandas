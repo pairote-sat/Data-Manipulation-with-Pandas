{
 "cells": [
  {
   "cell_type": "markdown",
   "id": "cf20be43-ce60-4f52-9013-6fac74bc8c98",
   "metadata": {},
   "source": [
    "# Exercise 2: Slicing and Selecting in DataFrames in Pandas\n",
    "\n",
    "These exercises cover various aspects of slicing and selecting data in pandas DataFrames, including basic filtering, conditional selection, and more complex queries. They are designed to enhance your skills in using `.loc[]`, `.iloc[]`, boolean indexing, and `.query()` methods effectively for data manipulation tasks."
   ]
  },
  {
   "cell_type": "markdown",
   "id": "aff0713e-513b-4807-9941-21c865a3f339",
   "metadata": {},
   "source": [
    "## Standard Questions\n",
    "\n",
    "1. Select the first 5 rows and columns 'country', 'year', and 'gdpPercap' from the `gapminder` dataset.\n",
    "\n",
    "2. Select data for countries where life expectancy (`lifeExp`) is greater than 80 in the year 2007.\n",
    "\n",
    "3. Select rows from index 100 to 105 (inclusive) and columns from index 1 to 4 (inclusive) from the `gapminder` dataset.\n",
    "\n",
    "4. Select data for countries in Europe ('continent' == 'Europe') and the year 2007 using `.query()`.\n",
    "\n",
    "5. Select the 'country', 'year', and 'gdpPercap' columns for countries where GDP per capita (`gdpPercap`) is greater than 40000.\n",
    "\n",
    "## Challenging Questions\n",
    "\n",
    "6. Select data for countries where population (`pop`) is greater than 1 billion in Asia ('continent' == 'Asia') and the year is between 2000 and 2010.\n",
    "\n",
    "7. Select data for countries where life expectancy (`lifeExp`) is less than 60 or GDP per capita (`gdpPercap`) is greater than 50000.\n",
    "\n",
    "8. Select data for countries where the country name starts with 'A' or ends with 'a'.\n",
    "\n",
    "9. Select data for countries in Africa ('continent' == 'Africa') and the year is 2002 or 2007 using `.query()`.\n",
    "\n",
    "10. Select data for countries where GDP per capita (`gdpPercap`) is greater than the average GDP per capita across all years.\n"
   ]
  }
 ],
 "metadata": {
  "kernelspec": {
   "display_name": "Python 3 (ipykernel)",
   "language": "python",
   "name": "python3"
  },
  "language_info": {
   "codemirror_mode": {
    "name": "ipython",
    "version": 3
   },
   "file_extension": ".py",
   "mimetype": "text/x-python",
   "name": "python",
   "nbconvert_exporter": "python",
   "pygments_lexer": "ipython3",
   "version": "3.10.9"
  }
 },
 "nbformat": 4,
 "nbformat_minor": 5
}