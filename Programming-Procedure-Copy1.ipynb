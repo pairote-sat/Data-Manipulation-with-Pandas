{
 "cells": [
  {
   "cell_type": "markdown",
   "id": "3883a40f-e0bc-420f-a44e-54451315b749",
   "metadata": {},
   "source": [
    "# การเขียนโปรแกรมในแบบที่คอมพิวเตอร์เข้าใจได้ (Programming Procedure)\n",
    "\n",
    "---\n",
    "\n",
    "## การตีโจทย์ปัญหาไปเป็นภาษาคอมพิวเตอร์ (Problem Solving)\n",
    "\n",
    "- ขั้นตอนการแก้ปัญหา (Problem Solving Steps)\n",
    "  1. ทำความเข้าใจปัญหา\n",
    "  2. วางแผนการแก้ปัญหา\n",
    "  3. แปลงแผนเป็นโปรแกรม\n",
    "  4. ทดสอบและแก้ไข\n",
    "  5. ทบทวนและปรับปรุง\n",
    "\n",
    "---\n",
    "\n",
    "## ผังงาน (Flowchart)\n",
    "\n",
    "- ผังงานคืออะไร?\n",
    "  - เครื่องมือในการแสดงขั้นตอนการทำงานหรือการแก้ปัญหาเป็นลำดับขั้นตอนโดยใช้สัญลักษณ์มาตรฐาน\n",
    "- สัญลักษณ์ที่ใช้ในผังงาน\n",
    "  - สี่เหลี่ยมผืนผ้า: กระบวนการ (Process)\n",
    "  - ข้าวหลามตัด: การตัดสินใจ (Decision)\n",
    "  - วงรี: จุดเริ่มต้น/จุดสิ้นสุด (Start/End)\n",
    "\n",
    "---\n",
    "\n",
    "## ตัวอย่างผังงาน (Flowchart Example)\n",
    "\n",
    "- **โจทย์**: การตรวจสอบว่าเลขที่ใส่เข้ามาเป็นเลขคู่หรือเลขคี่\n",
    "\n",
    "**ผังงาน:**\n",
    "\n",
    "```plaintext\n",
    "(เริ่ม)\n",
    "   |\n",
    "   V\n",
    "รับค่า n จากผู้ใช้\n",
    "   |\n",
    "   V\n",
    "n % 2 == 0?\n",
    "   / \\\n",
    "  /   \\\n",
    "ใช่  ไม่ใช่\n",
    "/       \\\n",
    "แสดงว่า   แสดงว่า\n",
    "เป็นเลขคู่ เป็นเลขคี่\n",
    "   |\n",
    "   V\n",
    "(สิ้นสุด)\n",
    "```\n",
    "---\n",
    "\n",
    "## ซูโดโค้ดหรือรหัสเทียม (Pseudo Code)\n",
    "\n",
    "- ซูโดโค้ดคืออะไร?\n",
    "  - เป็นการเขียนขั้นตอนการแก้ปัญหาในรูปแบบที่เข้าใจง่าย ใกล้เคียงกับภาษาโปรแกรมแต่ไม่ต้องอิงตามหลักไวยากรณ์ใด ๆ\n",
    "\n",
    "---\n",
    "\n",
    "## ตัวอย่างซูโดโค้ด (Pseudo Code Example)\n",
    "\n",
    "- **โจทย์**: การตรวจสอบว่าเลขที่ใส่เข้ามาเป็นเลขคู่หรือเลขคี่ (ตามผังงานก่อนหน้า)\n",
    "\n",
    "```plaintext\n",
    "เริ่มต้นโปรแกรม\n",
    "    รับค่า n\n",
    "    ถ้า (n % 2 == 0) {\n",
    "        แสดงว่า \"n เป็นเลขคู่\"\n",
    "    } มิฉะนั้น {\n",
    "        แสดงว่า \"n เป็นเลขคี่\"\n",
    "    }\n",
    "สิ้นสุดโปรแกรม\n",
    "```"
   ]
  },
  {
   "cell_type": "code",
   "execution_count": 16,
   "id": "0da69e9f-5832-469d-9697-2f1c8841b93b",
   "metadata": {},
   "outputs": [
    {
     "name": "stdout",
     "output_type": "stream",
     "text": [
      "st45=>start: start a_pyflow_test\n",
      "op46=>operation: do something\n",
      "cond47=>condition: Yes or No?\n",
      "io48=>inputoutput: output: something...\n",
      "e50=>end: end a_pyflow_test\n",
      "sub49=>subroutine: A Subroutine\n",
      "\n",
      "st45->op46\n",
      "op46->cond47\n",
      "cond47->\n",
      "cond47->\n",
      "cond47(yes)->io48\n",
      "io48->e50\n",
      "cond47(no)->sub49\n",
      "sub49(right)->op46\n",
      "\n"
     ]
    }
   ],
   "source": [
    "from pyflowchart import *\n",
    "\n",
    "st = StartNode('a_pyflow_test')\n",
    "op = OperationNode('do something')\n",
    "cond = ConditionNode('Yes or No?')\n",
    "io = InputOutputNode(InputOutputNode.OUTPUT, 'something...')\n",
    "sub = SubroutineNode('A Subroutine')\n",
    "e = EndNode('a_pyflow_test')\n",
    "\n",
    "st.connect(op)\n",
    "op.connect(cond)\n",
    "cond.connect_yes(io)\n",
    "cond.connect_no(sub)\n",
    "sub.connect(op, \"right\")  # sub->op line starts from the right of sub\n",
    "io.connect(e)\n",
    " \n",
    "fc = Flowchart(st)\n",
    "print(fc.flowchart())"
   ]
  },
  {
   "cell_type": "code",
   "execution_count": 5,
   "id": "93bb2f20-7961-4f3e-b1b3-370b54101589",
   "metadata": {},
   "outputs": [
    {
     "name": "stdout",
     "output_type": "stream",
     "text": [
      "st0=>start: start a_pyflow_test\n",
      "op1=>operation: do something\n",
      "cond2=>condition: Yes or No?\n",
      "io3=>inputoutput: output: something...\n",
      "e5=>end: end a_pyflow_test\n",
      "sub4=>subroutine: A Subroutine\n",
      "\n",
      "st0->op1\n",
      "op1->cond2\n",
      "cond2->\n",
      "cond2->\n",
      "cond2(yes)->io3\n",
      "io3->e5\n",
      "cond2(no)->sub4\n",
      "sub4(right)->op1\n",
      "\n"
     ]
    }
   ],
   "source": [
    "print(fc.flowchart())"
   ]
  },
  {
   "cell_type": "code",
   "execution_count": 14,
   "id": "ffd86492-f5b0-473f-9dab-b0327897c824",
   "metadata": {},
   "outputs": [
    {
     "name": "stdout",
     "output_type": "stream",
     "text": [
      "digraph G {\n",
      "\n",
      "digraph G {\n",
      "    st36 [shape=\"ellipse\", label=\"start a_pyflow_test\"];\n",
      "    op37 [shape=\"box\", label=\"do something\"];\n",
      "    cond38 [shape=\"diamond\", label=\"Yes or No?\"];\n",
      "    io39 [shape=\"parallelogram\", label=\"something...\"];\n",
      "    e41 [shape=\"ellipse\", label=\"end a_pyflow_test\"];\n",
      "    sub40 [shape=\"box\", label=\"A Subroutine\"];\n",
      "\n",
      "    st36 -> op37;;\n",
      "    op37 -> cond38;;\n",
      "    cond38 -> io39 [label=\"Yes\"];;\n",
      "    io39 -> e41;;\n",
      "    cond38 -> sub40 [label=\"No\"];;\n",
      "    sub40 -> op37 [label=\"right\"];;\n",
      "}\n",
      "}\n"
     ]
    }
   ],
   "source": [
    "def convert_pyflowchart_to_graphviz(pyflowchart_code):\n",
    "    # Replace start, operation, condition, inputoutput, subroutine, and end nodes\n",
    "    replacements = {\n",
    "        '=>start:': '[shape=\"ellipse\", label=',\n",
    "        '=>operation:': '[shape=\"box\", label=',\n",
    "        '=>condition:': '[shape=\"diamond\", label=',\n",
    "        '=>inputoutput: output:': '[shape=\"parallelogram\", label=',\n",
    "        '=>subroutine:': '[shape=\"box\", label=',\n",
    "        '=>end:': '[shape=\"ellipse\", label=',\n",
    "    }\n",
    "\n",
    "    # Initialize Graphviz DOT code string\n",
    "    dot_code = 'digraph G {\\n'\n",
    "\n",
    "    # Process each line in pyflowchart code\n",
    "    for line in pyflowchart_code.splitlines():\n",
    "        # Process node definitions\n",
    "        for old, new in replacements.items():\n",
    "            if old in line:\n",
    "                line = line.replace(old, new)\n",
    "                line = line.replace(':', '\"]')  # Close the label\n",
    "                line = line.replace('->', '];\\n')  # Close the node definition\n",
    "        # Process the connections\n",
    "        if '->' in line and '(yes)' in line:\n",
    "            line = line.replace('(yes)->', ' -> ') + ' [label=\"Yes\"];'\n",
    "        elif '->' in line and '(no)' in line:\n",
    "            line = line.replace('(no)->', ' -> ') + ' [label=\"No\"];'\n",
    "        elif '->' in line:\n",
    "            line += ';'\n",
    "        dot_code += line + '\\n'\n",
    "\n",
    "    dot_code += '}'\n",
    "    return dot_code\n",
    "\n",
    "# Convert the pseudo-DOT to proper DOT syntax\n",
    "graphviz_code = convert_pyflowchart_to_graphviz(dot_code)\n",
    "\n",
    "# Print to verify\n",
    "print(graphviz_code)\n"
   ]
  },
  {
   "cell_type": "code",
   "execution_count": 15,
   "id": "f21fb2f7-ffe6-4be0-8670-8c2dd8d7441f",
   "metadata": {},
   "outputs": [
    {
     "data": {
      "text/plain": [
       "'flowchart.pdf'"
      ]
     },
     "execution_count": 15,
     "metadata": {},
     "output_type": "execute_result"
    }
   ],
   "source": [
    "import graphviz\n",
    "\n",
    "# Corrected DOT code\n",
    "dot_code = \"\"\"\n",
    "digraph G {\n",
    "    st36 [shape=\"ellipse\", label=\"start a_pyflow_test\"];\n",
    "    op37 [shape=\"box\", label=\"do something\"];\n",
    "    cond38 [shape=\"diamond\", label=\"Yes or No?\"];\n",
    "    io39 [shape=\"parallelogram\", label=\"something...\"];\n",
    "    e41 [shape=\"ellipse\", label=\"end a_pyflow_test\"];\n",
    "    sub40 [shape=\"box\", label=\"A Subroutine\"];\n",
    "\n",
    "    st36 -> op37;\n",
    "    op37 -> cond38;\n",
    "    cond38 -> io39 [label=\"Yes\"];\n",
    "    io39 -> e41;\n",
    "    cond38 -> sub40 [label=\"No\"];\n",
    "    sub40 -> op37 [label=\"right\"];\n",
    "}\n",
    "\"\"\"\n",
    "\n",
    "# Render the graph\n",
    "graph = graphviz.Source(dot_code)\n",
    "graph.render('flowchart', format='png', cleanup=True)\n",
    "graph.view()\n"
   ]
  },
  {
   "cell_type": "code",
   "execution_count": 17,
   "id": "2aac9bf6-d358-4514-92a0-0d990b62ae08",
   "metadata": {},
   "outputs": [
    {
     "name": "stdout",
     "output_type": "stream",
     "text": [
      "st57=>start: start check_even_odd\n",
      "io59=>inputoutput: input: number\n",
      "cond63=>condition: if ((number % 2) == 0)\n",
      "sub67=>subroutine: print('Even')\n",
      "e74=>end: end check_even_odd\n",
      "sub71=>subroutine: print('Odd')\n",
      "\n",
      "st57->io59\n",
      "io59->cond63\n",
      "cond63(yes)->sub67\n",
      "sub67->e74\n",
      "cond63(no)->sub71\n",
      "sub71->e74\n",
      "\n"
     ]
    }
   ],
   "source": [
    "from pyflowchart import Flowchart\n",
    "\n",
    "code = \"\"\"\n",
    "def check_even_odd(number):\n",
    "    if number % 2 == 0:\n",
    "        print(\"Even\")\n",
    "    else:\n",
    "        print(\"Odd\")\n",
    "\"\"\"\n",
    "\n",
    "flowchart = Flowchart.from_code(code)\n",
    "print(flowchart.flowchart())\n"
   ]
  },
  {
   "cell_type": "code",
   "execution_count": 18,
   "id": "1a9fcbc3-3acd-4542-826f-52ea9d3765b7",
   "metadata": {},
   "outputs": [
    {
     "name": "stdout",
     "output_type": "stream",
     "text": [
      "st80=>start: start check_even_odd\n",
      "io82=>inputoutput: input: number\n",
      "cond86=>condition: if ((number % 2) == 0)\n",
      "sub90=>subroutine: print('Even')\n",
      "e97=>end: end check_even_odd\n",
      "sub94=>subroutine: print('Odd')\n",
      "\n",
      "st80->io82\n",
      "io82->cond86\n",
      "cond86(yes)->sub90\n",
      "sub90->e97\n",
      "cond86(no)->sub94\n",
      "sub94->e97\n",
      "\n"
     ]
    }
   ],
   "source": [
    "from pyflowchart import Flowchart\n",
    "\n",
    "# Your Python code that checks if a number is even or odd\n",
    "code = \"\"\"\n",
    "def check_even_odd(number):\n",
    "    if number % 2 == 0:\n",
    "        print(\"Even\")\n",
    "    else:\n",
    "        print(\"Odd\")\n",
    "\"\"\"\n",
    "\n",
    "# Create the flowchart from the code\n",
    "flowchart = Flowchart.from_code(code)\n",
    "\n",
    "# Print the flowchart in the mermaid format\n",
    "print(flowchart.flowchart())\n"
   ]
  },
  {
   "cell_type": "code",
   "execution_count": 19,
   "id": "e85e0537-9339-45df-a21a-4cc7e7b6e19f",
   "metadata": {},
   "outputs": [
    {
     "name": "stdout",
     "output_type": "stream",
     "text": [
      "st103=>start: start check_even_odd\n",
      "io105=>inputoutput: input: number\n",
      "op108=>operation: result = ''\n",
      "cond111=>condition: if ((number % 2) == 0)\n",
      "op115=>operation: result = 'Even'\n",
      "sub122=>subroutine: print(result)\n",
      "e124=>end: end check_even_odd\n",
      "op119=>operation: result = 'Odd'\n",
      "\n",
      "st103->io105\n",
      "io105->op108\n",
      "op108->cond111\n",
      "cond111(yes)->op115\n",
      "op115->sub122\n",
      "sub122->e124\n",
      "cond111(no)->op119\n",
      "op119->sub122\n",
      "\n"
     ]
    }
   ],
   "source": [
    "from pyflowchart import Flowchart\n",
    "\n",
    "# Modified code for checking even or odd\n",
    "code = \"\"\"\n",
    "def check_even_odd(number):\n",
    "    result = ''\n",
    "    if number % 2 == 0:\n",
    "        result = 'Even'\n",
    "    else:\n",
    "        result = 'Odd'\n",
    "    print(result)\n",
    "\"\"\"\n",
    "\n",
    "# Create the flowchart from the modified code\n",
    "flowchart = Flowchart.from_code(code)\n",
    "\n",
    "# Print the flowchart in the mermaid format\n",
    "print(flowchart.flowchart())\n"
   ]
  },
  {
   "cell_type": "code",
   "execution_count": null,
   "id": "bce1a55d-7d39-4156-b4b1-7aca459edff8",
   "metadata": {},
   "outputs": [],
   "source": []
  },
  {
   "cell_type": "code",
   "execution_count": 32,
   "id": "9bc16a7b-67dc-4837-9a7b-89be2411d315",
   "metadata": {},
   "outputs": [
    {
     "name": "stdout",
     "output_type": "stream",
     "text": [
      "st173=>start: start Start\n",
      "e174=>end: end End\n",
      "\n",
      "st173->e174\n",
      "\n"
     ]
    }
   ],
   "source": [
    "from pyflowchart import *\n",
    "\n",
    "# Create the nodes\n",
    "st = StartNode('Start')\n",
    "e = EndNode('End')\n",
    "\n",
    "# Connect the nodes\n",
    "st.connect(e)\n",
    "\n",
    "# Create the flowchart\n",
    "fc = Flowchart(st)\n",
    "\n",
    "# Print the flowchart as a string\n",
    "print(fc.flowchart())\n"
   ]
  },
  {
   "cell_type": "code",
   "execution_count": 41,
   "id": "b9b6d48a-bf64-4999-959c-de7c47ce59a7",
   "metadata": {},
   "outputs": [
    {
     "name": "stdout",
     "output_type": "stream",
     "text": [
      "st234=>start: start Start\n",
      "io235=>inputoutput: input: Input number\n",
      "cond236=>condition: Is number % 2 == 0?\n",
      "io237=>inputoutput: output: Print \"Even\"\n",
      "e239=>end: end End\n",
      "io238=>inputoutput: output: Print \"Odd\"\n",
      "\n",
      "st234->io235\n",
      "io235->cond236\n",
      "cond236->\n",
      "cond236->\n",
      "cond236(yes)->io237\n",
      "io237->e239\n",
      "cond236(no)->io238\n",
      "io238->e239\n",
      "\n"
     ]
    }
   ],
   "source": [
    "from pyflowchart import *\n",
    "\n",
    "# Create the nodes\n",
    "st = StartNode('Start')\n",
    "io = InputOutputNode(InputOutputNode.INPUT, 'Input number')\n",
    "cond = ConditionNode('Is number % 2 == 0?')\n",
    "even = InputOutputNode(InputOutputNode.OUTPUT, 'Print \"Even\"')\n",
    "odd = InputOutputNode(InputOutputNode.OUTPUT, 'Print \"Odd\"')\n",
    "e = EndNode('End')\n",
    "\n",
    "# Connect the nodes\n",
    "st.connect(io)\n",
    "io.connect(cond)\n",
    "cond.connect_yes(even)\n",
    "cond.connect_no(odd)\n",
    "even.connect(e)\n",
    "odd.connect(e)\n",
    "\n",
    "# Create the flowchart\n",
    "fc = Flowchart(st)\n",
    "\n",
    "# Print the flowchart as a string\n",
    "print(fc.flowchart())\n"
   ]
  },
  {
   "cell_type": "code",
   "execution_count": 40,
   "id": "3ef0c7d5-ff0c-4575-9aff-5687a5f47886",
   "metadata": {},
   "outputs": [
    {
     "name": "stdout",
     "output_type": "stream",
     "text": [
      "op228=>operation: x = 1\n",
      "op230=>operation: y = 2\n",
      "op232=>operation: z = (x + y)\n",
      "\n",
      "op228->op230\n",
      "op230->op232\n",
      "\n"
     ]
    }
   ],
   "source": [
    "from pyflowchart import Flowchart\n",
    "\n",
    "code = \"\"\"\n",
    "# Start\n",
    "x = 1\n",
    "y = 2\n",
    "z = x + y\n",
    "# Stop\n",
    "\"\"\"\n",
    "\n",
    "flowchart = Flowchart.from_code(code)\n",
    "flowchart = flowchart.flowchart()\n",
    "print(flowchart)\n"
   ]
  }
 ],
 "metadata": {
  "kernelspec": {
   "display_name": "Python 3 (ipykernel)",
   "language": "python",
   "name": "python3"
  },
  "language_info": {
   "codemirror_mode": {
    "name": "ipython",
    "version": 3
   },
   "file_extension": ".py",
   "mimetype": "text/x-python",
   "name": "python",
   "nbconvert_exporter": "python",
   "pygments_lexer": "ipython3",
   "version": "3.10.9"
  }
 },
 "nbformat": 4,
 "nbformat_minor": 5
}
