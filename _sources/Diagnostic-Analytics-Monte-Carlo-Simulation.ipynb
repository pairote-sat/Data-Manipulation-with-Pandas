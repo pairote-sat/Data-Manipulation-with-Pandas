{
 "cells": [
  {
   "cell_type": "markdown",
   "id": "d42b2370-7842-45e5-818f-51d044077a5f",
   "metadata": {},
   "source": [
    "# <span style=\"color: dimgray;\">**Diagnostic Analytics: Monte Carlo Simulation**</span>\n"
   ]
  },
  {
   "cell_type": "markdown",
   "id": "7f23753b-1b0e-4edb-acc4-7fc0357dbe3c",
   "metadata": {},
   "source": [
    "**Diagnostic Analytics** delves into understanding the reasons behind events. It employs techniques such as **Monte Carlo Simulation** to uncover patterns and correlations within historical data.\n",
    "\n",
    "In actuarial science, the foundational processes of **data collection** and **descriptive statistics** play a pivotal role in comprehending and quantifying risk. Accurate and comprehensive data form the cornerstone for reliable actuarial analyses, offering crucial insights into the patterns and characteristics of events under scrutiny. This robust data foundation not only enables the identification of historical trends but also supports the predictive capabilities required in Monte Carlo Simulations.\n",
    "\n",
    "By utilizing **Monte Carlo Simulation**, actuaries can simulate numerous possible scenarios based on probabilistic models derived from historical data. These simulations help in quantifying the uncertainty inherent in risk assessments, thereby enhancing decision-making processes. Through this methodological approach, actuarial professionals can not only understand the past but also anticipate and prepare for potential future outcomes with greater precision.\n"
   ]
  },
  {
   "cell_type": "markdown",
   "id": "688218ae-724c-4111-a41f-1d0ce824fe99",
   "metadata": {},
   "source": [
    "```{admonition} Integrated Analytical Techniques in Actuarial Science: From Diagnostic Analytics to Monte Carlo Methods\n",
    "\n",
    "**Diagnostic Analytics** focuses on understanding why something happened. It uses techniques like Monte Carlo Simulation to identify patterns and correlations in historical data.\n",
    "\n",
    "**Descriptive statistics**, in turn, facilitate the concise summarization and interpretation of this data, serving as a crucial step in the actuarial decision-making process by enabling professionals to derive meaningful conclusions and assess potential financial implications.\n",
    "\n",
    "**Sampling Methods** address this challenge by systematically selecting a subset of data points from a larger population, ensuring that insights drawn from the sample are representative and applicable to the entire population. This methodological approach bridges the gap between limited data availability and the need for robust statistical inference.\n",
    "\n",
    "Furthermore, **Monte Carlo Methods** enhance the actuarial toolkit by simulating thousands or even millions of possible outcomes based on probabilistic models. These simulations use random sampling techniques to quantify the uncertainty and variability inherent in actuarial forecasts. By generating a diverse array of scenarios, Monte Carlo Methods empower actuaries to assess risk with greater precision and develop strategies that account for a spectrum of potential outcomes.\n",
    "```"
   ]
  },
  {
   "cell_type": "markdown",
   "id": "819f6497-f9a1-478f-9e03-e5f6ff4ce28c",
   "metadata": {},
   "source": [
    "Basic terms in statistics are illustrated in the following example."
   ]
  },
  {
   "cell_type": "markdown",
   "id": "8c37d0d0-6fcb-47bf-95a3-289a29c03291",
   "metadata": {},
   "source": [
    "```{admonition}  **Example 1** \n",
    "An actuarial student is interested in exploring the average income of policyholders in an actuarial portfolio. Applying the concepts in the context of actuarial science:\n",
    "\n",
    "1. **Population:** The entire collection of incomes earned by all policyholders in the actuarial portfolio.\n",
    "2. **Sample:** A subset of the population, such as the incomes of policyholders within a specific demographic or policy category.\n",
    "3. **Variable:** The \"income\" assigned to each individual policyholder.\n",
    "4. **Data Value:** For instance, the income of a specific policyholder, like Ms. Johnson's income at \\$60,000.\n",
    "5. **Data:** The set of values corresponding to the obtained sample (e.g., \\$60,000; \\$45,000; \\$75,000; ...).\n",
    "6. **Experiment:** The methods employed to select policyholders for the sample and determine the income of each, which could involve analyzing demographic data or using actuarial models.\n",
    "7. **Parameter:** The sought-after information concerns the \"average\" income of all policyholders in the entire portfolio.\n",
    "8. **Statistic:** The determined \"average\" income of policyholders within the selected sample.\n",
    "```"
   ]
  },
  {
   "cell_type": "markdown",
   "id": "fd5b867a-9796-41be-8515-14186e6eb58c",
   "metadata": {},
   "source": [
    "## <span style=\"color: dimgray;\">**Exploring Actuarial Data Collection**</span>\n",
    "\n",
    "In the field of actuarial science, various methods are commonly employed for data collection:\n",
    "\n",
    "1. **Actuarial Interviews**\n",
    "   Individuals often provide responses when interviewed by an actuarial professional, but their answers may be influenced by the interviewer's approach, for e.g., an actuarial interview aiming to assess individuals' perception of insurance risk.\n",
    "\n",
    "2. **Phone Surveys**\n",
    "   A cost-effective method, but it is essential to keep surveys brief as respondents in actuarial contexts may have limited patience.\n",
    "\n",
    "3. **Self-Administered Actuarial Questionnaires**\n",
    "   An economical option, yet the response rate may be lower, and the participants might constitute a biased sample in actuarial analyses.\n",
    "\n",
    "4. **Direct Risk Observation**\n",
    "   For specific risk factors, an actuary may directly observe and measure quantities of interest within the sample.\n",
    "\n",
    "5. **Web-Based Risk Surveys**\n",
    "   This method is limited to the population using the web, catering to a specific subset of individuals in actuarial investigations."
   ]
  },
  {
   "cell_type": "markdown",
   "id": "22e6f819-00bb-4ce3-afab-4ce3c5baa862",
   "metadata": {},
   "source": [
    "```{tip} \n",
    "it is imperative to employ sampling methods for data collection that ensure the obtained data accurately represents the population and is free from **bias**.\n",
    "```"
   ]
  },
  {
   "cell_type": "markdown",
   "id": "163de37d-c3fa-4add-ae9c-1b7774c8adbd",
   "metadata": {},
   "source": [
    "## <span style=\"color: dimgray;\">**Strategies for Collecting Data**</span>\n",
    "\n",
    "Data collection is a crucial step in the research process, and the selection of observations or measurements for a study depends on the research question and the goals of the study. There are two broad categories of methods for collecting data: **non-probability methods** and **probability methods**.\n",
    "\n",
    "### <span style=\"color: dimgray;\">**Non-Probability Methods**</span>\n",
    "\n",
    "1. **Convenience or Haphazard Sampling:**\n",
    "In convenience or haphazard sampling, units are chosen without a planned method, assuming population homogeneity. For instance, a vox pop survey randomly selects individuals passing by, introducing **biases** based on the interviewer's decisions and the characteristics of those present during sampling.\n",
    "\n",
    "\n",
    "```{figure} _build/images/convenience-sampling.png\n",
    ":name: figure-Convenience-Sampling\n",
    "\n",
    "Convenience Sampling\n",
    "\n",
    "Image from https://lc.gcumedia.com/hlt362v/the-visual-learner/images/convenience-sampling-.png   \n",
    "```\n",
    "\n",
    "\n",
    "```{admonition}  **Example 2** \n",
    "Imagine estimating life expectancy by randomly selecting individuals waiting in line at an insurance office for an actuarial study; however, this may introduce biases if those in line have specific characteristics.\n",
    "```"
   ]
  },
  {
   "cell_type": "markdown",
   "id": "fa205e8c-d3d7-4615-9df2-edd372289b54",
   "metadata": {},
   "source": [
    "2.  **Volunteer Sampling:**\n",
    "Volunteer sampling involves including only willing participants, often with specific criteria. For example, in a radio show discussion, only those with strong opinions may respond, causing **a selection bias** as the silent majority typically does not participate.\n",
    "\n",
    "```{admonition}  **Example 3**\n",
    "Understanding financial behaviors within an insurance portfolio may involve volunteer sampling by inviting policyholders to participate; however, biases may occur if those who volunteer have unique characteristics not representative of the entire group.\n",
    "```"
   ]
  },
  {
   "cell_type": "markdown",
   "id": "1c44f0c2-952d-4954-b226-a1e6919e00dc",
   "metadata": {},
   "source": [
    "### <span style=\"color: dimgray;\">**Probability Methods**</span>\n",
    "\n",
    "1. **Simple Random Sample:**\n",
    "Simple random sampling involves selecting units from a population in a completely random manner, ensuring every unit has an equal chance of being chosen. For example, drawing names from a hat for a survey is a simple random sampling method, minimizing biases and providing a representative sample.\n",
    "\n",
    "```{figure} _build/images/simple-random-sample.png\n",
    ":name: figure-simple-random-sample\n",
    "\n",
    "Simple Random Sampling\n",
    "\n",
    "Image from https://lc.gcumedia.com/hlt362v/the-visual-learner/images/simple-random-sample.png  \n",
    "```\n",
    "\n",
    "\n",
    "```{admonition}  **Example 4**\n",
    "Estimating the average lifespan of policyholders by randomly selecting a subset for study through the use of randomly generated numbers is an application of simple random sampling, ensuring unbiased representation.\n",
    "```"
   ]
  },
  {
   "cell_type": "markdown",
   "id": "71a60492-7f7b-46bb-9f06-86c8d098449d",
   "metadata": {},
   "source": [
    "2.  **Stratified Random Sampling:**\n",
    "Stratified random sampling involves dividing the population into subgroups (strata) based on certain characteristics and then randomly selecting samples from each stratum. For instance, when studying a diverse population, dividing it into age groups and then randomly selecting individuals from each group ensures representation across different age ranges, providing more accurate insights.\n",
    "\n",
    "\n",
    "```{figure} _build/images/stratified-sample.png\n",
    ":name: figure-stratified-sample\n",
    "\n",
    "Stratified Sampling\n",
    "\n",
    "Image from https://lc.gcumedia.com/hlt362v/the-visual-learner/images/stratified-sample.png\n",
    "```\n",
    "\n",
    "```{admonition}  **Example 5**\n",
    "Estimating insurance claims across various demographic groups could involve stratified random sampling by categorizing policyholders based on income levels and then selecting samples from each stratum, ensuring a more subtle understanding of claim patterns.\n",
    "```"
   ]
  },
  {
   "cell_type": "markdown",
   "id": "8c7db505-c3df-428f-9cda-76da4e1d0224",
   "metadata": {},
   "source": [
    "3.  **Cluster Sampling:**\n",
    "Cluster sampling involves dividing the population into clusters and randomly selecting entire clusters for inclusion in the sample. For example, when studying a large geographical area, dividing it into clusters (such as cities or neighborhoods) and randomly selecting some clusters for analysis can be more practical than trying to include every individual unit, saving time and resources.\n",
    "\n",
    "\n",
    "```{figure} _build/images/cluster-sampling.png\n",
    ":name: figure-cluster-sample\n",
    "\n",
    "Cluster Sampling\n",
    "\n",
    "Image from https://lc.gcumedia.com/hlt362v/the-visual-learner/images/cluster-sampling.png\n",
    "```\n",
    "\n",
    "\n",
    "```{admonition}  **Example 6**\n",
    "Assessing the risk profile of policyholders in various regions might involve cluster sampling by randomly selecting specific cities or towns as clusters and then studying all policyholders within those selected areas, providing insights into regional risk patterns.\n",
    "```"
   ]
  },
  {
   "cell_type": "markdown",
   "id": "59a537c0-a25f-423f-80a5-885441e628d9",
   "metadata": {
    "tags": []
   },
   "source": [
    "## <span style=\"color: dimgray;\">**Considerations in Data Collection**</span>\n",
    "\n",
    "\n",
    "1. **Sampling Frame:**\n",
    "   - The list or source from which the sample is drawn.\n",
    "   - Should represent the entire population.\n",
    "\n",
    "2. **Sample Size:**\n",
    "   - Balancing precision with practical considerations.\n",
    "   - Larger samples increase representativeness but may be impractical.\n",
    "\n",
    "3. **Data Collection Tools:**\n",
    "   - Choosing appropriate instruments for measurement (surveys, interviews, etc.).\n",
    "   - Depends on research objectives.\n",
    "\n",
    "4. **Ethical Considerations:**\n",
    "   - Ensuring participant rights through informed consent and confidentiality.\n",
    "   - Adherence to ethical guidelines.\n",
    "\n",
    "In conclusion, the choice between non-probability and probability methods depends on the research design, resources, and the level of representativeness required. Both methods have their strengths and limitations, and researchers must carefully consider these factors when selecting their data collection approach."
   ]
  },
  {
   "cell_type": "markdown",
   "id": "84363902-3ac4-49d4-8731-de73c7f2193b",
   "metadata": {},
   "source": [
    "## Monte Carlo methods\n",
    "\n",
    "Monte Carlo methods are simulation-based algorithms that rely on generating a large set\n",
    "of samples from a statistical model to obtain the behaviour of the model and estimate\n",
    "the quantities of interest. For a large sample set of a random variable representing a\n",
    "quantity of interest, the law of large numbers allows to approximate the expectation by\n",
    "the average value from the samples.\n",
    "\n",
    "### Connection to Sampling Methods\n",
    "\n",
    "Monte Carlo methods are fundamentally rooted in the concept of sampling methods. In both approaches, the objective is to draw samples from a population or a model to make inferences about that population or model. Sampling methods aim to obtain a representative subset from a larger population, allowing for statistical analysis and inference. Monte Carlo methods extend this idea by using random sampling to numerically solve problems that might be deterministic in nature, but where direct analytical solutions are difficult or impossible.\n",
    "\n",
    "\n",
    "\n",
    "Consider repeated independent trials of a random experiment. We will need to generate a large number of samples $X_1, X_2, \\ldots$ from the model. A Monte Carlo method for estimating the expectation $E(X)$ is a numerical method based on the approximation\n",
    "\n",
    "$$\n",
    "E(X) \\approx \\frac{1}{N}\\sum_{i=1}^N X_i,\n",
    "$$\n",
    "\n",
    "where $X_1, X_2, \\ldots$ are i.i.d. with the same distribution as $X$.\n",
    "\n",
    "While computing expectations and computing probabilities at first look like different problems, the latter can be reduced to the former: if $X$ is a random variable, we have \n",
    "\n",
    "$$\n",
    "\\Pr(X \\in A) = E(1_A(X)).\n",
    "$$\n",
    "\n",
    "Using this equality, we can estimate $\\Pr(X \\in A)$ by\n",
    "\n",
    "$$\n",
    "\\Pr(X \\in A) = E(1_A(X)) = \\frac{1}{N}\\sum_{i=1}^N 1_A(X_i).\n",
    "$$\n",
    "\n",
    "Recall that the indicator function of the set $A$ is defined as\n",
    "\n",
    "$$\n",
    "1_A(x) =\n",
    "\\begin{cases}\n",
    "    1 & \\text{if } x \\in A \\\\\n",
    "    0 & \\text{otherwise}\n",
    "\\end{cases}\n",
    "$$\n"
   ]
  },
  {
   "cell_type": "markdown",
   "id": "6d6402b6-a701-400e-b899-ac96a0e5b390",
   "metadata": {},
   "source": [
    "## Monte Carlo Simulation for Drawing Samples from a Standard Normal Distribution\n",
    "\n",
    "Monte Carlo simulation is a versatile method used in statistical analysis and modeling to understand complex systems or processes through random sampling. When applied to draw samples from a standard normal distribution, which has a mean of 0 and a standard deviation of 1, Monte Carlo simulation can provide insights into the characteristics of the distribution of interest."
   ]
  },
  {
   "cell_type": "code",
   "execution_count": 15,
   "id": "385ecc70-6336-4a6e-8068-5b619e768db0",
   "metadata": {},
   "outputs": [
    {
     "data": {
      "image/png": "[encoded data removed]",
      "text/plain": [
       "<Figure size 1000x600 with 1 Axes>"
      ]
     },
     "metadata": {},
     "output_type": "display_data"
    },
    {
     "name": "stdout",
     "output_type": "stream",
     "text": [
      "Mean of the samples: 0.0009668681409495975\n",
      "Standard deviation of the samples: 1.0009009542948903\n"
     ]
    }
   ],
   "source": [
    "import numpy as np\n",
    "import matplotlib.pyplot as plt\n",
    "\n",
    "# Seed for reproducibility\n",
    "np.random.seed(42)\n",
    "\n",
    "# Number of samples to draw\n",
    "N = 100000\n",
    "\n",
    "# Generate N random samples from a standard normal distribution\n",
    "samples = np.random.normal(0, 1, N)\n",
    "\n",
    "# Plotting the histogram of samples\n",
    "plt.figure(figsize=(10, 6))\n",
    "plt.hist(samples, bins=100, density=True, alpha=0.7, color='blue', edgecolor='black')\n",
    "plt.title('Monte Carlo Simulation: Drawing Samples from a Standard Normal Distribution')\n",
    "plt.xlabel('Value')\n",
    "plt.ylabel('Density')\n",
    "plt.grid(True)\n",
    "plt.show()\n",
    "\n",
    "# Statistical interpretation\n",
    "mean = np.mean(samples)\n",
    "std_dev = np.std(samples)\n",
    "print(f\"Mean of the samples: {mean}\")\n",
    "print(f\"Standard deviation of the samples: {std_dev}\")\n"
   ]
  },
  {
   "cell_type": "markdown",
   "id": "621a3cf2-5b14-43c8-be42-f31a123809cb",
   "metadata": {},
   "source": [
    "## Using Monte Carlo Methods: An Example\n",
    "\n",
    "Monte Carlo methods are powerful tools for solving complex problems using random sampling. These methods are particularly useful when dealing with high-dimensional integrals, probability distributions, or systems with a large number of possible states. To illustrate this, let's consider a simple example: estimating the value of $\\pi$.\n",
    "\n",
    "### Problem Explanation\n",
    "\n",
    "Estimating the value of $\\pi$ can be done using the Monte Carlo method by randomly generating points in a unit square and determining how many fall within a quarter circle inscribed within that square. The ratio of the number of points inside the quarter circle to the total number of points can be used to estimate $\\pi$.\n",
    "\n",
    "The mathematical idea is based on the area ratio:\n",
    "- The area of the unit square is $1$.\n",
    "- The area of the quarter circle of radius $1$ is $\\frac{\\pi}{4}$.\n",
    "\n",
    "Thus, if we generate $N$ random points $(x, y)$ where $0 \\leq x, y \\leq 1$, the ratio of points that fall inside the quarter circle ($x^2 + y^2 \\leq 1$) to the total number of points should approximate $\\frac{\\pi}{4}$. Therefore, $\\pi \\approx 4 \\times \\frac{\\text{Number of points inside the quarter circle}}{N}$.\n",
    "\n",
    "### Python Code\n",
    "\n",
    "```python\n",
    "import numpy as np\n",
    "\n",
    "# Seed for reproducibility\n",
    "np.random.seed(42)\n",
    "\n",
    "# Number of random points\n",
    "N = 1000000\n",
    "\n",
    "# Generate N random points in the unit square\n",
    "x = np.random.rand(N)\n",
    "y = np.random.rand(N)\n",
    "\n",
    "# Calculate the number of points inside the quarter circle\n",
    "inside_circle = np.sum(x**2 + y**2 <= 1)\n",
    "\n",
    "# Estimate the value of pi\n",
    "pi_estimate = 4 * inside_circle / N\n",
    "\n",
    "print(f\"Estimated value of pi: {pi_estimate}\")\n"
   ]
  },
  {
   "cell_type": "code",
   "execution_count": 6,
   "id": "4cd627a5-7874-4c3b-85dc-2704c4e11cdb",
   "metadata": {},
   "outputs": [
    {
     "name": "stdout",
     "output_type": "stream",
     "text": [
      "Estimated value of pi: 3.141864\n"
     ]
    }
   ],
   "source": [
    "import numpy as np\n",
    "\n",
    "# Seed for reproducibility\n",
    "np.random.seed(42)\n",
    "\n",
    "# Number of random points\n",
    "N = 1000000\n",
    "\n",
    "# Generate N random points in the unit square\n",
    "x = np.random.rand(N)\n",
    "y = np.random.rand(N)\n",
    "\n",
    "# Calculate the number of points inside the quarter circle\n",
    "inside_circle = np.sum(x**2 + y**2 <= 1)\n",
    "\n",
    "# Estimate the value of pi\n",
    "pi_estimate = 4 * inside_circle / N\n",
    "\n",
    "print(f\"Estimated value of pi: {pi_estimate}\")"
   ]
  },
  {
   "cell_type": "code",
   "execution_count": 11,
   "id": "ffc8182b-6fbb-4524-a6b3-b20c0fe0f133",
   "metadata": {},
   "outputs": [
    {
     "name": "stdout",
     "output_type": "stream",
     "text": [
      "Estimated value of pi: 3.1556\n"
     ]
    },
    {
     "data": {
      "image/png": "[encoded data removed]",
      "text/plain": [
       "<Figure size 800x800 with 1 Axes>"
      ]
     },
     "metadata": {},
     "output_type": "display_data"
    }
   ],
   "source": [
    "import numpy as np\n",
    "import matplotlib.pyplot as plt\n",
    "\n",
    "# Seed for reproducibility\n",
    "np.random.seed(42)\n",
    "\n",
    "# Number of random points\n",
    "N = 10000\n",
    "\n",
    "# Generate N random points in the unit square\n",
    "x = np.random.rand(N)\n",
    "y = np.random.rand(N)\n",
    "\n",
    "# Calculate the distance from the origin for each point\n",
    "dist = np.sqrt(x**2 + y**2)\n",
    "\n",
    "# Check if points are inside the quarter circle\n",
    "inside_circle = dist <= 1\n",
    "\n",
    "# Estimate the value of pi\n",
    "pi_estimate = 4 * np.sum(inside_circle) / N\n",
    "\n",
    "print(f\"Estimated value of pi: {pi_estimate}\")\n",
    "\n",
    "# Plotting\n",
    "plt.figure(figsize=(8, 8))\n",
    "plt.scatter(x[inside_circle], y[inside_circle], color='blue', s=1, label='Inside Quarter Circle')\n",
    "plt.scatter(x[~inside_circle], y[~inside_circle], color='red', s=1, label='Outside Quarter Circle')\n",
    "plt.xlabel('x')\n",
    "plt.ylabel('y')\n",
    "plt.title('Estimating Pi using Monte Carlo Simulation')\n",
    "plt.legend()\n",
    "plt.show()\n"
   ]
  },
  {
   "cell_type": "markdown",
   "id": "16ea96b0-a8e5-4617-a6a6-8af992afe09a",
   "metadata": {
    "jp-MarkdownHeadingCollapsed": true
   },
   "source": [
    "```{admonition}  **Exercise: Monte Carlo Simulation with Poisson Distribution** \n",
    "\n",
    "**Task:**\n",
    "\n",
    "Perform a Monte Carlo simulation to generate random samples from a Poisson distribution and compare the results with the theoretical properties of the Poisson distribution.\n",
    "\n",
    "**Questions to Address:**\n",
    "\n",
    "**Simulation Setup:**\n",
    "- Generate `N` random samples from a Poisson distribution with a given rate parameter λ.\n",
    "- Plot a histogram to visualize the distribution of the generated samples.\n",
    "\n",
    "**Comparison with Theoretical Distribution:**\n",
    "- Calculate and plot the theoretical probability mass function (PMF) of the Poisson distribution with the same rate parameter λ.\n",
    "- Compare the histogram from the simulation with the theoretical PMF. Discuss any similarities or differences observed.\n",
    "\n",
    "**Statistical Properties:**\n",
    "- Compute the mean and variance of the generated samples.\n",
    "- Compare these statistical properties with the theoretical mean (λ) and variance (λ) of the Poisson distribution. Discuss any discrepancies.\n",
    "\n",
    "**Exercise Steps:**\n",
    "\n",
    "1. **Simulation Implementation:**\n",
    "   - Implement a Python function to perform the Monte Carlo simulation using NumPy for generating random samples from the Poisson distribution.\n",
    "\n",
    "2. **Visualization:**\n",
    "   - Use matplotlib to plot the histogram of the generated samples and overlay the theoretical PMF curve of the Poisson distribution.\n",
    "\n",
    "3. **Analysis and Interpretation:**\n",
    "   - Compute the mean and variance of the generated samples.\n",
    "   - Compare these values with the theoretical mean and variance of the Poisson distribution.\n",
    "   - Discuss the accuracy of the simulation in approximating the Poisson distribution.\n",
    "```"
   ]
  },
  {
   "cell_type": "markdown",
   "id": "4f057832-0ff3-46bd-a01a-2b2238d91ac5",
   "metadata": {},
   "source": [
    "## <span style=\"color: dimgray;\">**Sampling Methods in Python**</span>\n",
    "\n",
    "This section explores various techniques for obtaining subsets of data from larger datasets using the Python programming language. Understanding and implementing these sampling methods is fundamental to achieving accurate and reliable insights from data, contributing to the robustness of statistical analyses and research findings."
   ]
  },
  {
   "cell_type": "markdown",
   "id": "09211f05-21db-4a5b-b281-c1ab86c60da7",
   "metadata": {},
   "source": [
    "### <span style=\"color: dimgray;\">**Simple Random Sampling in Python**</span>\n",
    "\n",
    "To obtain a random sample, one can sequentially label all cases and generate uniformly distributed random numbers for selecting cases from the population.\n",
    "\n",
    "In Python, a simple random sample can be generated using the random.sample() function from the random module. The function is defined as follows:\n",
    "\n",
    "```python\n",
    "import random\n",
    "\n",
    "# Sample usage:\n",
    "x = range(1, 101)  # Example population\n",
    "size = 10  # Example sample size\n",
    "\n",
    "sample = random.sample(x, size)\n",
    "print(sample)\n"
   ]
  },
  {
   "cell_type": "code",
   "execution_count": 1,
   "id": "8a0e7bd5-27c7-4324-acbb-7734e1847034",
   "metadata": {},
   "outputs": [
    {
     "name": "stdout",
     "output_type": "stream",
     "text": [
      "[3, 30, 66, 81, 83, 41, 62, 73, 14, 72]\n"
     ]
    }
   ],
   "source": [
    "import random\n",
    "\n",
    "# Sample usage:\n",
    "x = range(1, 101)  # Example population\n",
    "size = 10  # Example sample size\n",
    "\n",
    "sample = random.sample(x, size)\n",
    "print(sample)"
   ]
  },
  {
   "cell_type": "markdown",
   "id": "88ca6d39-6b6d-4a9d-a902-512f07dc3179",
   "metadata": {},
   "source": [
    "In this code:\n",
    "\n",
    "- `x` is the population from which you want to sample.\n",
    "- `size` is the number of samples you want to draw.\n",
    "- `random.sample()` returns a list of unique items from the population. If you want to allow sampling with replacement, you would need a different approach, such as using `random.choices()`.\n"
   ]
  },
  {
   "cell_type": "markdown",
   "id": "5a141feb-0756-46d8-84cb-47b29235d84a",
   "metadata": {},
   "source": [
    "### NumPy's `random.choice()`\n",
    "\n",
    "This code is an alternative to using `random.sample()` and provides similar functionality using NumPy's `random.choice()`.\n",
    "\n",
    "```python\n",
    "import numpy as np\n",
    "\n",
    "# Sample usage:\n",
    "x = np.arange(1, 101)  # Example population\n",
    "size = 10  # Example sample size\n",
    "\n",
    "sample = np.random.choice(x, size, replace=False)\n",
    "print(sample)\n"
   ]
  },
  {
   "cell_type": "code",
   "execution_count": 1,
   "id": "f58a7d9f-f130-45ed-ba01-22a9f1644f8e",
   "metadata": {},
   "outputs": [
    {
     "name": "stdout",
     "output_type": "stream",
     "text": [
      "[86 51 40 31 53  2 76 36 84 16]\n"
     ]
    }
   ],
   "source": [
    "import numpy as np\n",
    "\n",
    "# Sample usage:\n",
    "x = np.arange(1, 101)  # Example population\n",
    "size = 10  # Example sample size\n",
    "\n",
    "sample = np.random.choice(x, size, replace=False)\n",
    "print(sample)\n"
   ]
  },
  {
   "cell_type": "markdown",
   "id": "ddd00b45-1ed7-4d2d-a8d4-a423a0a128c3",
   "metadata": {},
   "source": [
    "In this code:\n",
    "\n",
    "- `x` is the population from which you want to sample, created using `np.arange` to generate an array from 1 to 100.\n",
    "- `size` is the number of samples you want to draw.\n",
    "- `np.random.choice(x, size, replace=False)` returns an array of unique items from the population. If you want to allow sampling with replacement, set `replace=True`."
   ]
  },
  {
   "cell_type": "markdown",
   "id": "ded5c77a-77b4-4c3b-845d-2ef3a989696b",
   "metadata": {},
   "source": [
    "```{tip}\n",
    "\n",
    "You can use other functions from the `random` module in Python depending on your needs. Here are a few common functions and their uses:\n",
    "\n",
    "1. **`random.random()`**: Returns a random floating point number in the range [0.0, 1.0).\n",
    "\n",
    "```python\n",
    "random_number = random.random()\n",
    "\n",
    "2. `random.randint(a, b)`: Returns a random integer between `a` and `b` (inclusive).\n",
    "\n",
    "```python\n",
    "random_integer = random.randint(1, 100)\n",
    "\n",
    "\n",
    "3. `random.choice(seq)`: Returns a random element from the non-empty sequence `seq`.\n",
    "\n",
    "```python\n",
    "items = ['apple', 'banana', 'cherry']\n",
    "random_item = random.choice(items)\n",
    "\n",
    "4. `random.shuffle(x)`: Shuffles the elements of list `x` in place.\n",
    "\n",
    "```python\n",
    "numbers = [1, 2, 3, 4, 5]\n",
    "random.shuffle(numbers)"
   ]
  },
  {
   "cell_type": "markdown",
   "id": "0dbeadef-4535-467d-8900-ca6f2bb04bb8",
   "metadata": {},
   "source": [
    "### Pandas `.sample()` for Sampling Without Replacement\n",
    "\n",
    "If you want to achieve similar functionality to `np.random.choice()` using Pandas' `.sample()` method for sampling without replacement, you can refactor the code as follows:"
   ]
  },
  {
   "cell_type": "code",
   "execution_count": 23,
   "id": "69569d05-0020-475d-a045-b5245869351b",
   "metadata": {},
   "outputs": [
    {
     "name": "stdout",
     "output_type": "stream",
     "text": [
      "[96  7 80 64 14  8 21 95 10 31]\n"
     ]
    }
   ],
   "source": [
    "import pandas as pd\n",
    "import numpy as np\n",
    "\n",
    "# Example population\n",
    "x = pd.Series(np.arange(1, 101))  # Convert NumPy array to Pandas Series\n",
    "size = 10  # Example sample size\n",
    "\n",
    "# Sample using Pandas .sample() method\n",
    "sample = x.sample(size, replace=False)\n",
    "print(sample.values)  # Convert Pandas Series to NumPy array and print\n",
    "\n"
   ]
  },
  {
   "cell_type": "markdown",
   "id": "091192d0-eb12-4703-b66e-0cda4097a0fd",
   "metadata": {},
   "source": [
    "Explanation:\n",
    "Population Definition: Here, x is defined as a Pandas Series containing values from 1 to 100. It's created using pd.Series(np.arange(1, 101)), which converts a NumPy array (np.arange(1, 101)) into a Pandas Series.\n",
    "\n",
    "Sampling:\n",
    "- The .sample() method of Pandas Series is used to randomly select size number of elements (10 in this example) from the Series x.\n",
    "- replace=False ensures sampling without replacement, meaning each selected element is unique within the sample.\n",
    "\n",
    "Output:\n",
    "- sample.values is used to access the underlying NumPy array of sampled values from the Pandas Series, similar to how np.random.choice() returns a NumPy array.\n",
    "\n",
    "This approach leverages Pandas' .sample() method, providing a seamless integration with Pandas Series for sampling data without replacement, aligning with the functionality of np.random.choice() in NumPy.\n"
   ]
  },
  {
   "cell_type": "markdown",
   "id": "3835e129-e510-4b3f-97b9-1fb9bd1a0dd1",
   "metadata": {},
   "source": [
    "```{admonition}  **Example 7**\n",
    "How can the acceptability of a sample, drawn through simple random sampling from a normal distribution with a given mean ($\\mu$) and standard deviation ($\\sigma$), be evaluated? The evaluation includes comparing histograms and conducting basic statistical checks to ensure the sample adequately represents the population.\n",
    "\n",
    "- **Objective:** Evaluate the acceptability of a sample drawn through simple random sampling from a normal distribution.\n",
    "\n",
    "- **Tasks:**\n",
    "  1. Generate a large population ($N$) following a normal distribution with a specified mean ($\\mu$) and standard deviation ($\\sigma$).\n",
    "  2. Draw a sample ($n$) from the population using simple random sampling.\n",
    "  3. Compare the histograms of the population and the sample to visually inspect their distributions.\n",
    "  4. Perform basic statistical checks, including calculating means and variances, to assess the representativeness of the sample.\n",
    "  5. Optionally, conduct a t-test to further validate the similarity between the sample and the population.\n",
    "\n",
    "\n",
    "```"
   ]
  },
  {
   "cell_type": "markdown",
   "id": "7576e205-b29b-47ce-b68c-e6fbc5a419a5",
   "metadata": {},
   "source": [
    "### Step 1: Generate a large population\n",
    "\n",
    "- We use NumPy's `np.random.normal` function to generate a large population (`population_size`) following a normal distribution with mean (`population_mean`) and standard deviation (`population_std`)."
   ]
  },
  {
   "cell_type": "code",
   "execution_count": 13,
   "id": "3a1c4ff5-20c3-4a9d-b3a5-47d24cb1c5fe",
   "metadata": {},
   "outputs": [],
   "source": [
    "import numpy as np\n",
    "\n",
    "# Set seed for reproducibility\n",
    "np.random.seed(42)\n",
    "\n",
    "# Parameters for the population\n",
    "population_mean = 50\n",
    "population_std = 10\n",
    "population_size = 100000  # Large population size\n",
    "\n",
    "# Generate the population\n",
    "population = np.random.normal(population_mean, population_std, population_size)"
   ]
  },
  {
   "cell_type": "markdown",
   "id": "f287f7d4-659d-4354-8499-cfcf579b4557",
   "metadata": {},
   "source": [
    "### Step 2: Draw a sample using simple random sampling\n",
    "\n",
    "- We use `np.random.choice` to draw a sample (`sample_size`) from the `population` without replacement, ensuring it's a simple random sample."
   ]
  },
  {
   "cell_type": "code",
   "execution_count": 14,
   "id": "2647f826-f1ec-4543-86f2-18e5c6a8d88f",
   "metadata": {},
   "outputs": [],
   "source": [
    "# Parameters for the sample\n",
    "sample_size = 1000  # Size of the sample\n",
    "\n",
    "# Draw a simple random sample from the population\n",
    "sample = np.random.choice(population, sample_size, replace=False)\n"
   ]
  },
  {
   "cell_type": "markdown",
   "id": "65748da0-e8f2-4ad4-8975-df0a6c77a268",
   "metadata": {},
   "source": [
    "### Step 3: Compare histograms of population and sample\n",
    "\n",
    "- We use Matplotlib to create histograms of both the `population` and `sample` distributions.\n",
    "- This visual inspection helps us compare the shapes and central tendencies of the two distributions.\n"
   ]
  },
  {
   "cell_type": "code",
   "execution_count": 15,
   "id": "7cda36e5-2260-42e9-98e5-707942c3100d",
   "metadata": {},
   "outputs": [
    {
     "data": {
      "image/png": "[encoded data removed]",
      "text/plain": [
       "<Figure size 1200x600 with 2 Axes>"
      ]
     },
     "metadata": {},
     "output_type": "display_data"
    }
   ],
   "source": [
    "import matplotlib.pyplot as plt\n",
    "\n",
    "# Plot histograms\n",
    "plt.figure(figsize=(12, 6))\n",
    "\n",
    "plt.subplot(1, 2, 1)\n",
    "plt.hist(population, bins=30, color='blue', alpha=0.7)\n",
    "plt.title('Population Distribution')\n",
    "plt.xlabel('Value')\n",
    "plt.ylabel('Frequency')\n",
    "\n",
    "plt.subplot(1, 2, 2)\n",
    "plt.hist(sample, bins=30, color='green', alpha=0.7)\n",
    "plt.title('Sample Distribution')\n",
    "plt.xlabel('Value')\n",
    "plt.ylabel('Frequency')\n",
    "\n",
    "plt.tight_layout()\n",
    "plt.show()\n"
   ]
  },
  {
   "cell_type": "markdown",
   "id": "5b3f0320-4122-4057-b7a6-3069d3cf2a76",
   "metadata": {},
   "source": [
    "### Step 4: Perform basic statistical checks\n",
    "\n",
    "- We calculate and compare the means and variances of the `population` and `sample`.\n",
    "- This helps us assess how closely the sample statistics reflect the population parameters."
   ]
  },
  {
   "cell_type": "code",
   "execution_count": 16,
   "id": "77dbf78f-27df-4623-a28d-41bbe5724cfb",
   "metadata": {},
   "outputs": [
    {
     "name": "stdout",
     "output_type": "stream",
     "text": [
      "Population Mean (Actual): 50\n",
      "Population Mean (Calculated): 50.01\n",
      "Population Variance (Calculated): 100.18\n",
      "\n",
      "Sample Mean: 49.90\n",
      "Sample Variance: 102.13\n"
     ]
    }
   ],
   "source": [
    "# Calculate means and variances\n",
    "population_mean_calculated = np.mean(population)\n",
    "population_var_calculated = np.var(population)\n",
    "\n",
    "sample_mean = np.mean(sample)\n",
    "sample_var = np.var(sample)\n",
    "\n",
    "print(f\"Population Mean (Actual): {population_mean}\")\n",
    "print(f\"Population Mean (Calculated): {population_mean_calculated:.2f}\")\n",
    "print(f\"Population Variance (Calculated): {population_var_calculated:.2f}\")\n",
    "print()\n",
    "print(f\"Sample Mean: {sample_mean:.2f}\")\n",
    "print(f\"Sample Variance: {sample_var:.2f}\")\n"
   ]
  },
  {
   "cell_type": "markdown",
   "id": "15af299b-eaf4-46c3-804f-742f0f3535b1",
   "metadata": {},
   "source": [
    "### Step 5: Optionally, conduct a t-test\n",
    "\n",
    "- We use `scipy.stats.ttest_1samp` to perform a one-sample t-test comparing the sample mean against the population mean.\n",
    "- The t-statistic measures how much the sample mean differs from the population mean, and the p-value indicates the significance of this difference."
   ]
  },
  {
   "cell_type": "code",
   "execution_count": 17,
   "id": "0a16639b-e5b3-4283-8b00-63c0fcd98ccf",
   "metadata": {},
   "outputs": [
    {
     "name": "stdout",
     "output_type": "stream",
     "text": [
      "t-statistic: -0.31\n",
      "p-value: 0.7572\n"
     ]
    }
   ],
   "source": [
    "from scipy.stats import ttest_1samp\n",
    "\n",
    "# Perform t-test\n",
    "t_stat, p_value = ttest_1samp(sample, population_mean)\n",
    "\n",
    "print(f\"t-statistic: {t_stat:.2f}\")\n",
    "print(f\"p-value: {p_value:.4f}\")\n"
   ]
  },
  {
   "cell_type": "markdown",
   "id": "2f3d9c27-6acd-4322-9f78-3f1644822056",
   "metadata": {},
   "source": [
    "### Interpretation of t-test results\n",
    "\n",
    "- **t-statistic**: The t-statistic measures how much the sample mean differs from the population mean, relative to the variability in the sample. In this case, the t-statistic is -0.31.\n",
    "  - A negative t-statistic indicates that the sample mean is slightly below the population mean.\n",
    "\n",
    "- **p-value**: The p-value indicates the probability of observing a t-statistic as extreme as the one calculated, under the assumption that the null hypothesis is true (i.e., that there is no difference between the sample mean and the population mean). Here, the p-value is 0.7572.\n",
    "  - A high p-value suggests that we fail to reject the null hypothesis. In practical terms, this means that the sample mean is not significantly different from the population mean at the conventional levels of significance (e.g., α = 0.05 or 0.01)."
   ]
  },
  {
   "cell_type": "markdown",
   "id": "5dd999d2-3269-406d-8461-d5332fa01f9d",
   "metadata": {},
   "source": [
    "```{tip}\n",
    "Therefore, based on these results, we can accept that the sample drawn through simple random sampling adequately represents the population mean.\n",
    "\n",
    "The high p-value indicates that we do not have sufficient evidence to reject the null hypothesis, which is that the sample mean is not significantly different from the population mean.\n",
    "\n",
    "Thus, the sample is considered acceptable for representing the population mean in this scenario.\n",
    "``"
   ]
  },
  {
   "cell_type": "markdown",
   "id": "307789ce-8485-4e78-91a7-0fc17805594b",
   "metadata": {},
   "source": [
    "```{tip} \n",
    "**Null Hypothesis for T-Test:**\n",
    "\n",
    "$ H_0: \\mu_{\\text{sample}} = \\mu_{\\text{population}} $\n",
    "\n",
    "Where:\n",
    "- $ \\mu_{\\text{sample}} $ is the mean of the sample.\n",
    "- $ \\mu_{\\text{population}} $ is the known or hypothesized mean of the population.\n",
    "\n",
    "The null hypothesis posits that there is no significant difference between the mean of the sample and the specified mean of the population. The t-test will assess whether any observed differences are statistically significant or if they could likely occur due to random sampling variability.\n",
    "\n",
    "\n",
    "**Conclusion from T-Test:**\n",
    "\n",
    "With a p-value of 0.7572 obtained from the t-test, we fail to reject the null hypothesis ($ H_0: \\mu_{\\text{sample}} = \\mu_{\\text{population}} $). This suggests that there is not enough statistical evidence to conclude that the mean of the sample is significantly different from the specified mean of the population. The observed differences are likely attributable to random sampling variability.\n",
    "\n",
    "```"
   ]
  },
  {
   "cell_type": "markdown",
   "id": "2cfecbf7-d19c-4075-a0ed-f44b54639559",
   "metadata": {},
   "source": [
    "### **Summary**\n",
    "\n",
    "These steps provide a comprehensive approach to evaluating a sample drawn from a normal distribution in Python. Each part involves generating data, visualizing distributions, calculating statistics, and optionally performing hypothesis testing to ensure the sample adequately represents the population."
   ]
  },
  {
   "cell_type": "markdown",
   "id": "a158bf9b-c099-4274-ab1c-8cbfcb177337",
   "metadata": {},
   "source": [
    "### <span style=\"color: dimgray;\">**Stratified Sampling in R**</span>\n",
    "\n",
    "In stratified sampling, the population is divided into smaller subgroups, or strata, based on common factors such as age, gender, income, etc. These strata are designed to accurately represent the overall population. \n",
    "\n",
    "For instance, when examining the daily time spent on messaging for male and female users, the strata may be defined as male and female users, and random sampling is then applied within each gender stratum."
   ]
  },
  {
   "cell_type": "markdown",
   "id": "076b9a67-a6dd-43bc-a3e4-858bb4835b2f",
   "metadata": {},
   "source": [
    "```{tip}\n",
    "It's important to note that while stratified sampling provides more precise estimates compared to random sampling, a major drawback is the need for knowledge about the specific characteristics of the population, which may not always be readily available. Additionally, determining the appropriate characteristics for stratification can pose challenges.\n",
    "```"
   ]
  },
  {
   "cell_type": "markdown",
   "id": "f436888a-4af2-49a5-a85f-42b881b4fab0",
   "metadata": {},
   "source": [
    "#### <span style=\"color: dimgray;\">**Balanced and Imbalanced Dataset**</span>\n",
    "\n",
    "In the following examples, we will create two different synthetic datasets and implement stratified sampling, a technique crucial for **maintaining proportional representation within distinct subgroups or strata**. \n",
    "\n",
    "The initial dataset, representing a balanced distribution, guarantees that each category is evenly presented within its own subgroup. This creates an inclusive learning environment where all classes have a fair presence.\n",
    "\n",
    "\n",
    "\n",
    "Conversely, the second dataset deliberately introduces an imbalance. Here, certain classes are intentionally presented in smaller numbers within their respective subgroups. This intentional imbalance reflects real-world situations where certain scenarios require focused attention on specific classes.\n",
    "\n",
    "Stratified sampling becomes essential in preserving proportional class representation within each subgroup, a methodology particularly valuable in both balanced and imbalanced cases.\n",
    "\n",
    "- **Balanced Dataset:** A balanced dataset is characterized by an equal or nearly equal distribution of instances across different classes or categories. In other words, each class in the dataset has a comparable number of samples.\n",
    "\n",
    "- **Imbalanced Dataset:** An imbalanced dataset occurs when the number of instances in different classes significantly varies. One or more classes might be underrepresented, making it challenging for a model to learn patterns associated with the minority class(es)."
   ]
  },
  {
   "cell_type": "markdown",
   "id": "38fef7bd-8081-4780-974b-bcaa0c94377c",
   "metadata": {},
   "source": [
    "Here we will use Scikit-learn for stratified sampling. Note that you will see this in more details later in the chapter on Introduction to Machine Leaning."
   ]
  },
  {
   "cell_type": "markdown",
   "id": "e6ec834f-270c-46e0-bddf-118afd2b0f61",
   "metadata": {},
   "source": [
    "The `StratifiedKFold` module in Scikit-learn sets up `n_splits` (folds, partitions or groups) of the dataset in a way that the folds are made by **preserving the percentage of samples for each class**.\n",
    "\n",
    "The brief explaination for the code below (also see the diagram below) is as follows:\n",
    "\n",
    "1. The dataset has been split into K (K = 2 in our example) equal  partitions (or folds).\n",
    "\n",
    "2. (In iteration 1) use fold 1 as the testing set and the union of the other folds as the training set.\n",
    "\n",
    "3. Repeat step 2 for K times, using a different fold as the testing set each time. \n",
    "\n",
    "\n",
    "![Image from gcumedia](https://www.researchgate.net/profile/Mingchao-Li/publication/331209203/figure/fig2/AS:728070977748994@1550597056956/K-fold-cross-validation-method_W640.jpg)\n",
    "\n",
    "Image source: https://www.researchgate.net/profile/Mingchao-Li/publication/331209203/figure/fig2/AS:728070977748994@1550597056956/K-fold-cross-validation-method_W640.jpg"
   ]
  },
  {
   "cell_type": "markdown",
   "id": "fb49774d-a2f3-4b1e-b5ac-f02826006b08",
   "metadata": {},
   "source": [
    "```{admonition} **Example 8** Synthetic balanced datasets\n",
    "\n",
    "We aim to perform stratified sampling on a synthetic balanced dataset using Python. The dataset contains two classes, \"ClassA\" and \"ClassB,\" and we intend to create a representative sample while maintaining the balance between the classes. The following tasks will be executed:\n",
    "\n",
    "- **Tasks for Stratified Sampling on Synthetic Imbalanced Datasets:**\n",
    "1. **Install and Import Libraries:**\n",
    "    - Use `pip install` to install necessary libraries (`pandas`, `numpy`, `scikit-learn`).\n",
    "    - Import libraries for data manipulation (`pandas`).\n",
    "\n",
    "2. **Create a Balanced Dataset:**\n",
    "    - Generate a synthetic dataset with two features, \"feature1\" and \"feature2,\" and 200 observations.\n",
    "    - The dataset is balanced, with 100 instances for each class.\n",
    "\n",
    "3. **Stratified Sampling:**\n",
    "    - Utilize `StratifiedKFold` from `sklearn.model_selection` to perform stratified sampling.\n",
    "    - Set `n_splits >= 2` to create multiple folds for cross-validation or multiple samples.     - This will ensure that the sample maintains the balance between classes.\n",
    "\n",
    "4. **Display the Result:**\n",
    "   - Use `value_counts()` or `numpy.bincount()` to display the counts or proportions of each class within the sampled data subgroups.\n",
    "   - This will provide insights into the distribution of classes within the stratified sample, considering the intentional imbalance in the dataset.\n",
    "\n"
   ]
  },
  {
   "cell_type": "code",
   "execution_count": 10,
   "id": "11e1b5f7-8c81-4e09-8d2b-c76c0c40d4a0",
   "metadata": {},
   "outputs": [
    {
     "name": "stdout",
     "output_type": "stream",
     "text": [
      "class\n",
      "ClassA    0.5\n",
      "ClassB    0.5\n",
      "Name: proportion, dtype: float64\n",
      "TRAIN INDEX: [ 0  1  5  6  9 10 12 13 18 19] TEST INDEX: [ 2  3  4  7  8 11 14 15 16 17]\n"
     ]
    }
   ],
   "source": [
    "# Import necessary libraries\n",
    "import numpy as np\n",
    "import pandas as pd\n",
    "from sklearn.model_selection import StratifiedKFold\n",
    "\n",
    "# Set seed for reproducibility\n",
    "np.random.seed(123)\n",
    "\n",
    "# Create a balanced dataset\n",
    "data_balanced = pd.DataFrame({\n",
    "    'feature1': np.random.normal(loc=5, size=20),\n",
    "    'feature2': np.random.normal(loc=10, size=20),\n",
    "    'class': np.repeat([\"ClassA\", \"ClassB\"], repeats=10)\n",
    "})\n",
    "\n",
    "# Initialize StratifiedKFold for sampling\n",
    "stratified_kfold = StratifiedKFold(n_splits=2, shuffle=True, random_state=123)  # Setting n_splits to 2 for example\n",
    "\n",
    "# Perform stratified sampling\n",
    "for train_index, test_index in stratified_kfold.split(data_balanced[['feature1', 'feature2']], data_balanced['class']):\n",
    "    sampled_data_balanced = data_balanced.loc[test_index]\n",
    "\n",
    "# Display the result (optional)\n",
    "print(sampled_data_balanced['class'].value_counts(normalize=True))\n",
    "\n",
    "\n",
    "# Display train/test indices\n",
    "print(f\"TRAIN INDEX: {train_index} TEST INDEX: {test_index}\")\n",
    "\n"
   ]
  },
  {
   "cell_type": "markdown",
   "id": "ac73a9a2-312a-43dd-a8cc-6b476810e47a",
   "metadata": {},
   "source": [
    "Explanation:\n",
    "- **n_splits**: This parameter specifies the number of folds or splits you want to create from the dataset. Typically, `n_splits >= 2` ensures that the dataset is divided into multiple samples.\n",
    "- **shuffle=True**: This parameter shuffles the data before splitting, ensuring that the order of samples does not affect the stratification.\n",
    "- **stratified_kfold.split()**: This method generates indices for each split based on the stratification of the target variable (`data_balanced['class']` in this case).\n",
    "- **sampled_data_balanced['class'].value_counts(normalize=True)**: Calculates and prints the normalized value counts of each class in the sampled dataset, providing insights into the class distribution within the stratified sample. When you use `.value_counts(normalize=True)` on a pandas Series, it calculates and returns the relative frequencies of unique values rather than their counts. This means each unique value's count is divided by the total number of observations, giving you proportions instead of raw counts.\n",
    "\n",
    "  \n",
    "Adjust `n_splits` according to your specific sampling needs. Setting `n_splits=1` effectively means no splitting is performed, which isn't suitable for typical use cases of `StratifiedKFold`. For simple stratified sampling without cross-validation, consider `StratifiedShuffleSplit` instead, as it directly supports sampling without needing multiple splits.\n"
   ]
  },
  {
   "cell_type": "markdown",
   "id": "94171248-5ae4-4d86-b9fd-85c2760cd7d5",
   "metadata": {},
   "source": [
    "```{tip}\n",
    "We create `sampled_data_balanced` by selecting data from `data_balanced` using `test_index` during stratified sampling.\n",
    "\n",
    "In the obtained result for the balanced case, the stratified sampling successfully yielded a distribution of classes where both 'ClassA' and 'ClassB' are evenly represented, each constituting 50% of the stratified sample.\n",
    "```"
   ]
  },
  {
   "cell_type": "markdown",
   "id": "67d1a7ef-2c3a-4440-9306-c1325e3ff2e1",
   "metadata": {},
   "source": [
    "<hr style=\"border: 2px solid #333;\">"
   ]
  },
  {
   "cell_type": "markdown",
   "id": "8a0c2ad7-0296-4f2b-a5a1-0efcc1ae3412",
   "metadata": {},
   "source": [
    "```{admonition} **Example 9** Synthetic imbalanced datasets\n",
    "\n",
    "We aim to perform stratified sampling on a synthetic imbalanced dataset using Python. The dataset comprises two classes, \"ClassA\" and \"ClassB,\" intentionally structured to demonstrate imbalance. The objective is to create a representative sample while acknowledging and addressing the intentional underrepresentation of specific classes within their respective subgroups.\n",
    "\n",
    "### Tasks for Stratified Sampling on Synthetic Imbalanced Datasets\n",
    "\n",
    "1. **Install and Import Libraries:**\n",
    "   - Use `pip install` to install necessary libraries (`pandas`, `numpy`, `scikit-learn`).\n",
    "   - Import libraries for data manipulation (`pandas`).\n",
    "\n",
    "2. **Create an Imbalanced Dataset:**\n",
    "   - Generate a synthetic dataset with two features, \"feature1\" and \"feature2,\" and 200 observations.\n",
    "   - Intentionally structure the dataset to illustrate imbalance, with specific classes deliberately underrepresented within their corresponding subgroups.\n",
    "\n",
    "3. **Stratified Sampling for Imbalanced Dataset:**\n",
    "   - Utilize `StratifiedKFold` from `sklearn.model_selection` to perform stratified sampling.\n",
    "   - Specify the number of folds (`n_splits`) and adjust as needed to address the dataset's imbalance.\n",
    "\n",
    "4. **Display the Result:**\n",
    "   - Use `value_counts()` or `numpy.bincount()` to present the counts or proportions of each class within the sampled data subgroups.\n",
    "   - This will provide insights into the distribution of classes within the stratified sample, considering the intentional imbalance in the dataset.\n",
    "\n",
    "Adjust parameters and explore various sampling strategies based on the specific requirements of your imbalanced dataset.\n"
   ]
  },
  {
   "cell_type": "markdown",
   "id": "a9b99464-8f68-4a59-9764-9ca2f05fa0fa",
   "metadata": {},
   "source": [
    "Here's the Python code using StratifiedKFold to perform stratified sampling on a synthetic imbalanced dataset:"
   ]
  },
  {
   "cell_type": "code",
   "execution_count": 20,
   "id": "bff89656-9b48-4ccd-ada2-12ab1ee2f694",
   "metadata": {},
   "outputs": [
    {
     "name": "stdout",
     "output_type": "stream",
     "text": [
      "class\n",
      "ClassB    0.78\n",
      "ClassA    0.22\n",
      "Name: proportion, dtype: float64\n",
      "TRAIN INDEX: [ 3  4  6  7  8 10 13 16 23 24 26 28 30 32 33 35 37 40 42 43 44 45 46 48\n",
      " 53 54 55 57 59 61 62 63 64 65 66 67 69 73 74 76 80 83 87 88 89 91 92 93\n",
      " 96 98] \n",
      " TEST INDEX: [ 0  1  2  5  9 11 12 14 15 17 18 19 20 21 22 25 27 29 31 34 36 38 39 41\n",
      " 47 49 50 51 52 56 58 60 68 70 71 72 75 77 78 79 81 82 84 85 86 90 94 95\n",
      " 97 99]\n"
     ]
    }
   ],
   "source": [
    "# Import necessary libraries\n",
    "import numpy as np\n",
    "import pandas as pd\n",
    "from sklearn.model_selection import StratifiedKFold\n",
    "\n",
    "# Set seed for reproducibility\n",
    "np.random.seed(123)\n",
    "\n",
    "# Create an imbalanced dataset\n",
    "data_imbalanced = pd.DataFrame({\n",
    "    'feature1': np.random.normal(loc=5, size=100),\n",
    "    'feature2': np.random.normal(loc=10, size=100),\n",
    "    'class': np.random.choice([\"ClassA\", \"ClassB\"], size=100, p=[0.2, 0.8])  # Intentionally imbalanced\n",
    "})\n",
    "\n",
    "# Initialize StratifiedKFold for sampling\n",
    "stratified_kfold = StratifiedKFold(n_splits=2, shuffle=True, random_state=123)\n",
    "\n",
    "# Perform stratified sampling\n",
    "for train_index, test_index in stratified_kfold.split(data_imbalanced[['feature1', 'feature2']], data_imbalanced['class']):\n",
    "    sampled_data_imbalanced = data_imbalanced.loc[test_index]\n",
    "\n",
    "# Display the result\n",
    "print(sampled_data_imbalanced['class'].value_counts(normalize=True))\n",
    "\n",
    "# Display train/test indices\n",
    "print(f\"TRAIN INDEX: {train_index} \\n TEST INDEX: {test_index}\")"
   ]
  },
  {
   "cell_type": "markdown",
   "id": "9ee0a9a2-8ec3-43ca-8c6d-a5c9fe6422e0",
   "metadata": {},
   "source": [
    "Explanation:\n",
    "- **np.random.choice**: Generates a random sample from `[\"ClassA\", \"ClassB\"]` with probabilities `[0.2, 0.8]`, intentionally creating an imbalanced dataset.\n",
    "- **StratifiedKFold**: Initializes the stratified k-fold cross-validator with `n_splits=2`, ensuring that the dataset is divided into 2 folds while preserving the class distribution.\n",
    "- **stratified_kfold.split()**: Generates indices for each fold based on the stratification of the target variable (`data_imbalanced['class']`).\n",
    "- **sampled_data_imbalanced['class'].value_counts(normalize=True)**: Calculates and prints the normalized value counts of each class in the sampled dataset, providing insights into the class distribution within the stratified sample.\n",
    "\n",
    "Adjust the parameters (`n_splits`, `random_state`, etc.) according to your specific sampling requirements and dataset characteristics. This approach effectively demonstrates how to perform stratified sampling on an imbalanced dataset using Python and `StratifiedKFold` from scikit-learn.\n"
   ]
  },
  {
   "cell_type": "markdown",
   "id": "d649ed5f-9e69-4843-b3de-02a10d1beb09",
   "metadata": {},
   "source": [
    "## Exercises\n",
    "\n",
    "### Simple Random Sampling (SRS) in Python:\n",
    "\n",
    "1. **Question 1: Simple Random Sampling from a Dataset**\n",
    "   - Task: Write Python code to perform simple random sampling on a real dataset.\n",
    "   - Dataset: Use the \"iris\" dataset from `sklearn.datasets`.\n",
    "   - Requirements:\n",
    "     - Import the dataset.\n",
    "     - Implement a function to perform simple random sampling with a specified sample size.\n",
    "     - Print the sample.\n",
    "\n",
    "2. **Question 2: Evaluation of Simple Random Sampling**\n",
    "   - Task: Compare the characteristics of the original dataset with the sampled dataset.\n",
    "   - Dataset: Use the \"wine\" dataset from `sklearn.datasets`.\n",
    "   - Requirements:\n",
    "     - Compute and print summary statistics (mean, standard deviation) for a selected feature from both the original and sampled datasets.\n",
    "     - Discuss any differences observed between the statistics of the original and sampled datasets.\n",
    "\n",
    "### Stratified Sampling in Python:\n",
    "\n",
    "3. **Question 3: Stratified Sampling Implementation**\n",
    "   - Task: Implement stratified sampling on a real dataset.\n",
    "   - Dataset: Use the \"digits\" dataset from `sklearn.datasets`.\n",
    "   - Requirements:\n",
    "     - Import the dataset.\n",
    "     - Implement a function to perform stratified sampling based on a selected target variable (e.g., target classes).\n",
    "     - Print the samples from each stratum.\n",
    "\n",
    "4. **Question 4: Comparison of Sampling Methods**\n",
    "   - Task: Compare the effectiveness of stratified sampling versus simple random sampling.\n",
    "   - Dataset: Use the \"breast_cancer\" dataset from `sklearn.datasets`.\n",
    "   - Requirements:\n",
    "     - Perform both stratified sampling and simple random sampling on a selected feature or target variable.\n",
    "     - Calculate and print summary statistics (mean, standard deviation) for both sampling methods.\n",
    "     - Discuss which sampling method would be more appropriate in different scenarios based on the dataset characteristics.\n"
   ]
  },
  {
   "cell_type": "markdown",
   "id": "e18c329c-579b-49f4-a2f2-cb95233e75f5",
   "metadata": {},
   "source": [
    "### **Answer to Question 1: Simple Random Sampling from a Dataset**"
   ]
  },
  {
   "cell_type": "code",
   "execution_count": 22,
   "id": "17e4be00-de3d-4aef-8034-796edf738441",
   "metadata": {},
   "outputs": [
    {
     "name": "stdout",
     "output_type": "stream",
     "text": [
      "Simple Random Sample:\n",
      "     sepal length (cm)  sepal width (cm)  petal length (cm)  petal width (cm)  \\\n",
      "73                 6.1               2.8                4.7               1.2   \n",
      "18                 5.7               3.8                1.7               0.3   \n",
      "118                7.7               2.6                6.9               2.3   \n",
      "78                 6.0               2.9                4.5               1.5   \n",
      "76                 6.8               2.8                4.8               1.4   \n",
      "31                 5.4               3.4                1.5               0.4   \n",
      "64                 5.6               2.9                3.6               1.3   \n",
      "141                6.9               3.1                5.1               2.3   \n",
      "68                 6.2               2.2                4.5               1.5   \n",
      "82                 5.8               2.7                3.9               1.2   \n",
      "110                6.5               3.2                5.1               2.0   \n",
      "12                 4.8               3.0                1.4               0.1   \n",
      "36                 5.5               3.5                1.3               0.2   \n",
      "9                  4.9               3.1                1.5               0.1   \n",
      "19                 5.1               3.8                1.5               0.3   \n",
      "56                 6.3               3.3                4.7               1.6   \n",
      "104                6.5               3.0                5.8               2.2   \n",
      "69                 5.6               2.5                3.9               1.1   \n",
      "55                 5.7               2.8                4.5               1.3   \n",
      "132                6.4               2.8                5.6               2.2   \n",
      "\n",
      "     target  \n",
      "73      1.0  \n",
      "18      0.0  \n",
      "118     2.0  \n",
      "78      1.0  \n",
      "76      1.0  \n",
      "31      0.0  \n",
      "64      1.0  \n",
      "141     2.0  \n",
      "68      1.0  \n",
      "82      1.0  \n",
      "110     2.0  \n",
      "12      0.0  \n",
      "36      0.0  \n",
      "9       0.0  \n",
      "19      0.0  \n",
      "56      1.0  \n",
      "104     2.0  \n",
      "69      1.0  \n",
      "55      1.0  \n",
      "132     2.0  \n",
      "Simple Random Sample:\n",
      "     sepal length (cm)  sepal width (cm)  petal length (cm)  petal width (cm)  \\\n",
      "73                 6.1               2.8                4.7               1.2   \n",
      "18                 5.7               3.8                1.7               0.3   \n",
      "118                7.7               2.6                6.9               2.3   \n",
      "78                 6.0               2.9                4.5               1.5   \n",
      "76                 6.8               2.8                4.8               1.4   \n",
      "31                 5.4               3.4                1.5               0.4   \n",
      "64                 5.6               2.9                3.6               1.3   \n",
      "141                6.9               3.1                5.1               2.3   \n",
      "68                 6.2               2.2                4.5               1.5   \n",
      "82                 5.8               2.7                3.9               1.2   \n",
      "110                6.5               3.2                5.1               2.0   \n",
      "12                 4.8               3.0                1.4               0.1   \n",
      "36                 5.5               3.5                1.3               0.2   \n",
      "9                  4.9               3.1                1.5               0.1   \n",
      "19                 5.1               3.8                1.5               0.3   \n",
      "56                 6.3               3.3                4.7               1.6   \n",
      "104                6.5               3.0                5.8               2.2   \n",
      "69                 5.6               2.5                3.9               1.1   \n",
      "55                 5.7               2.8                4.5               1.3   \n",
      "132                6.4               2.8                5.6               2.2   \n",
      "\n",
      "     target  \n",
      "73      1.0  \n",
      "18      0.0  \n",
      "118     2.0  \n",
      "78      1.0  \n",
      "76      1.0  \n",
      "31      0.0  \n",
      "64      1.0  \n",
      "141     2.0  \n",
      "68      1.0  \n",
      "82      1.0  \n",
      "110     2.0  \n",
      "12      0.0  \n",
      "36      0.0  \n",
      "9       0.0  \n",
      "19      0.0  \n",
      "56      1.0  \n",
      "104     2.0  \n",
      "69      1.0  \n",
      "55      1.0  \n",
      "132     2.0  \n"
     ]
    }
   ],
   "source": [
    "from sklearn.datasets import load_iris\n",
    "from sklearn.datasets import load_iris\n",
    "import pandas as pd\n",
    "import numpy as np\n",
    "\n",
    "# Load the iris dataset\n",
    "iris = load_iris()\n",
    "df = pd.DataFrame(data= np.c_[iris['data'], iris['target']],\n",
    "                  columns= iris['feature_names'] + ['target'])\n",
    "\n",
    "# Function to perform simple random sampling\n",
    "def simple_random_sampling(data, sample_size, random_seed=None):\n",
    "    if random_seed:\n",
    "        np.random.seed(random_seed)\n",
    "    sample = data.sample(n=sample_size)\n",
    "    return sample\n",
    "\n",
    "# Perform simple random sampling\n",
    "sample_size = 20  # Specify the sample size\n",
    "sample = simple_random_sampling(df, sample_size, random_seed=42)\n",
    "\n",
    "# Print the sample\n",
    "print(\"Simple Random Sample:\")\n",
    "print(sample)\n",
    "\n",
    "\n",
    "import pandas as pd\n",
    "import numpy as np\n",
    "\n",
    "# Load the iris dataset\n",
    "iris = load_iris()\n",
    "df = pd.DataFrame(data= np.c_[iris['data'], iris['target']],\n",
    "                  columns= iris['feature_names'] + ['target'])\n",
    "\n",
    "# Function to perform simple random sampling\n",
    "def simple_random_sampling(data, sample_size, random_seed=None):\n",
    "    if random_seed:\n",
    "        np.random.seed(random_seed)\n",
    "    sample = data.sample(n=sample_size)\n",
    "    return sample\n",
    "\n",
    "# Perform simple random sampling\n",
    "sample_size = 20  # Specify the sample size\n",
    "sample = simple_random_sampling(df, sample_size, random_seed=42)\n",
    "\n",
    "# Print the sample\n",
    "print(\"Simple Random Sample:\")\n",
    "print(sample)\n"
   ]
  },
  {
   "cell_type": "markdown",
   "id": "0fa64d18-effa-46da-b9a4-de669ac6f761",
   "metadata": {},
   "source": [
    "Insight from Results:\n",
    "\n",
    "- By comparing the sampled dataset (`sample`) with the original dataset (`df`), we can observe how well our sample represents the characteristics of the entire dataset.\n",
    "- Insight can be gained regarding the variability and distribution of the selected features within the sample compared to the population.\n",
    "- Statistical measures such as mean, standard deviation, and other summary statistics can reveal similarities or differences in the distribution of data points between the sample and the original dataset.\n",
    "- This exercise helps in understanding how sampling affects data representation and is crucial for tasks like hypothesis testing and predictive modeling, where having a representative sample is essential for accurate conclusions.\n"
   ]
  },
  {
   "cell_type": "markdown",
   "id": "4ab6dbdc-a0d9-4cfe-8e03-9f940046094f",
   "metadata": {},
   "source": [
    "### **Answer to Question 2: Evaluation of Simple Random Sampling (SRS)** \n",
    "\n",
    "Here's the code and explanation for Question 2, which involves evaluating Simple Random Sampling (SRS) on the \"wine\" dataset and comparing it with the original dataset:"
   ]
  },
  {
   "cell_type": "code",
   "execution_count": 24,
   "id": "a7d3cbc1-9895-4398-9b72-da88b326c35a",
   "metadata": {},
   "outputs": [
    {
     "name": "stdout",
     "output_type": "stream",
     "text": [
      "Original Dataset:\n",
      "Mean: 13.00, Standard Deviation: 0.81\n",
      "\n",
      "Sampled Dataset:\n",
      "Mean: 13.01, Standard Deviation: 0.80\n",
      "\n",
      "Insights:\n",
      "- The mean and standard deviation of the sampled dataset may vary from the original dataset, indicating potential differences in alcohol content distribution.\n",
      "- Variability in sample statistics can influence decisions in data analysis and modeling, highlighting the importance of sample representativeness.\n"
     ]
    }
   ],
   "source": [
    "from sklearn.datasets import load_wine\n",
    "import pandas as pd\n",
    "import numpy as np\n",
    "\n",
    "# Load the wine dataset\n",
    "wine = load_wine()\n",
    "df = pd.DataFrame(data= np.c_[wine['data'], wine['target']],\n",
    "                  columns= wine['feature_names'] + ['target'])\n",
    "\n",
    "# Function to perform simple random sampling\n",
    "def simple_random_sampling(data, sample_size, random_seed=None):\n",
    "    if random_seed:\n",
    "        np.random.seed(random_seed)\n",
    "    sample = data.sample(n=sample_size)\n",
    "    return sample\n",
    "\n",
    "# Perform simple random sampling\n",
    "sample_size = 30  # Specify the sample size\n",
    "sample = simple_random_sampling(df, sample_size, random_seed=42)\n",
    "\n",
    "# Compute summary statistics\n",
    "original_mean = df['alcohol'].mean()\n",
    "sampled_mean = sample['alcohol'].mean()\n",
    "original_std = df['alcohol'].std()\n",
    "sampled_std = sample['alcohol'].std()\n",
    "\n",
    "# Print summary statistics\n",
    "print(\"Original Dataset:\")\n",
    "print(f\"Mean: {original_mean:.2f}, Standard Deviation: {original_std:.2f}\")\n",
    "print(\"\\nSampled Dataset:\")\n",
    "print(f\"Mean: {sampled_mean:.2f}, Standard Deviation: {sampled_std:.2f}\")\n",
    "\n",
    "# Discuss insights from the results\n",
    "print(\"\\nInsights:\")\n",
    "print(\"- The mean and standard deviation of the sampled dataset may vary from the original dataset, indicating potential differences in alcohol content distribution.\")\n",
    "print(\"- Variability in sample statistics can influence decisions in data analysis and modeling, highlighting the importance of sample representativeness.\")\n"
   ]
  }
 ],
 "metadata": {
  "kernelspec": {
   "display_name": "Python 3 (ipykernel)",
   "language": "python",
   "name": "python3"
  },
  "language_info": {
   "codemirror_mode": {
    "name": "ipython",
    "version": 3
   },
   "file_extension": ".py",
   "mimetype": "text/x-python",
   "name": "python",
   "nbconvert_exporter": "python",
   "pygments_lexer": "ipython3",
   "version": "3.10.9"
  }
 },
 "nbformat": 4,
 "nbformat_minor": 5
}
