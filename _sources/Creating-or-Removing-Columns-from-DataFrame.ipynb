{
 "cells": [
  {
   "cell_type": "markdown",
   "id": "6ebce5fa-9905-4d56-9877-b2c1851befdf",
   "metadata": {},
   "source": [
    "# Creating or Removing Columns from DataFrame\n",
    "\n",
    "In data analysis with pandas, it's often necessary to add new columns to a DataFrame to derive new insights or perform calculations based on existing data. This section explores methods for creating new columns and removing existing columns from a DataFrame, using the `apply` function for custom operations.\n",
    "\n",
    "## Using `apply` to Create New Columns\n",
    "\n",
    "The `apply` function in pandas allows you to apply a function along an axis of the DataFrame. It is particularly useful for creating new columns by applying a function to each row or column.\n",
    "\n",
    "#### Example Using Gapminder Dataset"
   ]
  },
  {
   "cell_type": "code",
   "execution_count": 4,
   "id": "fcfbbd0e-84eb-4360-bdb3-79ca14f8e76c",
   "metadata": {
    "editable": true,
    "scrolled": true,
    "slideshow": {
     "slide_type": ""
    },
    "tags": [
     "hide-input"
    ]
   },
   "outputs": [],
   "source": [
    "import pandas as pd\n",
    "\n",
    "# URL to the raw CSV file on GitHub\n",
    "url = 'https://raw.githubusercontent.com/kirenz/datasets/master/gapminder.csv'\n",
    "\n",
    "# Read the CSV file into a DataFrame\n",
    "gapminder = pd.read_csv(url)"
   ]
  },
  {
   "cell_type": "markdown",
   "id": "41d689ca-b63d-41e0-8cc6-f7f97eaa7108",
   "metadata": {},
   "source": [
    "#### Example 1: \n",
    "\n",
    "Create a new column 'population_millions' by dividing 'pop' by 1,000,000"
   ]
  },
  {
   "cell_type": "code",
   "execution_count": 2,
   "id": "73834ab8-996a-4e69-be65-966e0cf61a50",
   "metadata": {},
   "outputs": [
    {
     "name": "stdout",
     "output_type": "stream",
     "text": [
      "       country continent  year  lifeExp       pop   gdpPercap  \\\n",
      "0  Afghanistan      Asia  1952   28.801   8425333  779.445314   \n",
      "1  Afghanistan      Asia  1957   30.332   9240934  820.853030   \n",
      "2  Afghanistan      Asia  1962   31.997  10267083  853.100710   \n",
      "3  Afghanistan      Asia  1967   34.020  11537966  836.197138   \n",
      "4  Afghanistan      Asia  1972   36.088  13079460  739.981106   \n",
      "\n",
      "   population_millions  \n",
      "0             8.425333  \n",
      "1             9.240934  \n",
      "2            10.267083  \n",
      "3            11.537966  \n",
      "4            13.079460  \n"
     ]
    }
   ],
   "source": [
    "gapminder['population_millions'] = gapminder['pop'].apply(lambda x: x / 1e6)\n",
    "print(gapminder.head())"
   ]
  },
  {
   "cell_type": "markdown",
   "id": "6f6126e2-eba3-4e73-b252-e704425bcb9d",
   "metadata": {},
   "source": [
    "#### Example 2: \n",
    "\n",
    "Create a new column 'life_expectancy_category' based on life expectancy ranges"
   ]
  },
  {
   "cell_type": "code",
   "execution_count": 3,
   "id": "7b2bc3d9-4b16-4800-8f5a-d844177c3af9",
   "metadata": {},
   "outputs": [
    {
     "name": "stdout",
     "output_type": "stream",
     "text": [
      "       country continent  year  lifeExp       pop   gdpPercap  \\\n",
      "0  Afghanistan      Asia  1952   28.801   8425333  779.445314   \n",
      "1  Afghanistan      Asia  1957   30.332   9240934  820.853030   \n",
      "2  Afghanistan      Asia  1962   31.997  10267083  853.100710   \n",
      "3  Afghanistan      Asia  1967   34.020  11537966  836.197138   \n",
      "4  Afghanistan      Asia  1972   36.088  13079460  739.981106   \n",
      "\n",
      "   population_millions life_expectancy_category  \n",
      "0             8.425333                      Low  \n",
      "1             9.240934                      Low  \n",
      "2            10.267083                      Low  \n",
      "3            11.537966                      Low  \n",
      "4            13.079460                      Low  \n"
     ]
    }
   ],
   "source": [
    "def categorize_life_expectancy(life_exp):\n",
    "    if life_exp > 75:\n",
    "        return 'High'\n",
    "    elif life_exp > 60:\n",
    "        return 'Medium'\n",
    "    else:\n",
    "        return 'Low'\n",
    "\n",
    "gapminder['life_expectancy_category'] = gapminder['lifeExp'].apply(categorize_life_expectancy)\n",
    "print(gapminder.head())"
   ]
  },
  {
   "cell_type": "markdown",
   "id": "55d7ec57-96a5-40cc-8cb5-2251fc3219af",
   "metadata": {},
   "source": [
    "```{note} \n",
    "* **Example 1**: Uses `apply` with a lambda function to create a new column 'population_millions' by dividing the 'pop' column values by 1,000,000.\n",
    "\n",
    "* **Example 2**: Defines a custom function `categorize_life_expectancy` to categorize life expectancy values into 'High', 'Medium', or 'Low'. The function is then applied to create a new column 'life_expectancy_category' based on the 'lifeExp' column.\n",
    "```"
   ]
  },
  {
   "cell_type": "markdown",
   "id": "1fbf37b4-a165-4f02-bf14-6b89b842fcbf",
   "metadata": {},
   "source": [
    "## Removing Columns from DataFrame\n",
    "\n",
    "To remove columns from a DataFrame, you can use the `.drop()` method or Python's `del` statement."
   ]
  },
  {
   "cell_type": "markdown",
   "id": "8df2ea16-a914-4d7f-a788-543814bdce48",
   "metadata": {},
   "source": [
    "#### Example 3: \n",
    "\n",
    "Remove the 'gdpPercap' column from the gapminder DataFrame\n"
   ]
  },
  {
   "cell_type": "code",
   "execution_count": null,
   "id": "3d0e9c92-5755-432b-a541-b54d939e0bc7",
   "metadata": {},
   "outputs": [],
   "source": [
    "gapminder.drop(columns=['gdpPercap'], inplace=True)\n",
    "print(gapminder.head())\n",
    "\n",
    "# Alternatively, use the del statement to remove a column\n",
    "del gapminder['population_millions']\n",
    "print(gapminder.head())"
   ]
  },
  {
   "cell_type": "markdown",
   "id": "d2b5498c-48f7-4b30-9278-e443314f5a7b",
   "metadata": {},
   "source": [
    "```{Notes}\n",
    "\n",
    "* **`.drop()` Method**: Removes specified columns from the DataFrame using the columns parameter and setting `inplace=True` to modify the DataFrame in place.\n",
    "\n",
    "* **`del` Statement**: Provides an alternative way to delete columns from a DataFrame by specifying the column name after del.\n",
    "```"
   ]
  }
 ],
 "metadata": {
  "kernelspec": {
   "display_name": "Python 3 (ipykernel)",
   "language": "python",
   "name": "python3"
  },
  "language_info": {
   "codemirror_mode": {
    "name": "ipython",
    "version": 3
   },
   "file_extension": ".py",
   "mimetype": "text/x-python",
   "name": "python",
   "nbconvert_exporter": "python",
   "pygments_lexer": "ipython3",
   "version": "3.10.9"
  }
 },
 "nbformat": 4,
 "nbformat_minor": 5
}
